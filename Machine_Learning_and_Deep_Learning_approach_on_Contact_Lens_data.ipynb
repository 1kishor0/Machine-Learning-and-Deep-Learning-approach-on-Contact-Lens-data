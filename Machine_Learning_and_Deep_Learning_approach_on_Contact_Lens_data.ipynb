{
  "nbformat": 4,
  "nbformat_minor": 0,
  "metadata": {
    "colab": {
      "provenance": [],
      "authorship_tag": "ABX9TyMA6uInvEBPwdl0dK6JHuiS",
      "include_colab_link": true
    },
    "kernelspec": {
      "name": "python3",
      "display_name": "Python 3"
    },
    "language_info": {
      "name": "python"
    }
  },
  "cells": [
    {
      "cell_type": "markdown",
      "metadata": {
        "id": "view-in-github",
        "colab_type": "text"
      },
      "source": [
        "<a href=\"https://colab.research.google.com/github/1kishor0/Machine-Learning-and-Deep-Learning-approach-on-Contact-Lens-data/blob/main/Machine_Learning_and_Deep_Learning_approach_on_Contact_Lens_data.ipynb\" target=\"_parent\"><img src=\"https://colab.research.google.com/assets/colab-badge.svg\" alt=\"Open In Colab\"/></a>"
      ]
    },
    {
      "cell_type": "markdown",
      "source": [
        "# KNN Classifier"
      ],
      "metadata": {
        "id": "evjsMoLFXfSF"
      }
    },
    {
      "cell_type": "code",
      "execution_count": 212,
      "metadata": {
        "id": "YXbBsEYtqQiQ"
      },
      "outputs": [],
      "source": [
        "import pandas as pd\n",
        "from sklearn.neighbors import KNeighborsClassifier\n",
        "from sklearn.model_selection import train_test_split"
      ]
    },
    {
      "cell_type": "code",
      "source": [
        "# load the Contact Lens dataset\n",
        "url = 'http://archive.ics.uci.edu/ml/machine-learning-databases/lenses/lenses.data'\n",
        "lenses = pd.read_csv(url, header=None, delim_whitespace=True, names=['age', 'prescript', 'astigmatic', 'tear_rate', 'class'])"
      ],
      "metadata": {
        "id": "1XyNls7qRvlG"
      },
      "execution_count": 213,
      "outputs": []
    },
    {
      "cell_type": "code",
      "source": [
        "# drop the missing values\n",
        "#lenses = lenses.dropna()"
      ],
      "metadata": {
        "id": "pH8cUkFMStP0"
      },
      "execution_count": 214,
      "outputs": []
    },
    {
      "cell_type": "code",
      "source": [
        "lenses"
      ],
      "metadata": {
        "colab": {
          "base_uri": "https://localhost:8080/",
          "height": 802
        },
        "id": "J8FRBVjFe2Gf",
        "outputId": "8ac4b384-de2c-4654-85b1-d2b8ad1e0005"
      },
      "execution_count": 215,
      "outputs": [
        {
          "output_type": "execute_result",
          "data": {
            "text/plain": [
              "    age  prescript  astigmatic  tear_rate  class\n",
              "1     1          1           1          1      3\n",
              "2     1          1           1          2      2\n",
              "3     1          1           2          1      3\n",
              "4     1          1           2          2      1\n",
              "5     1          2           1          1      3\n",
              "6     1          2           1          2      2\n",
              "7     1          2           2          1      3\n",
              "8     1          2           2          2      1\n",
              "9     2          1           1          1      3\n",
              "10    2          1           1          2      2\n",
              "11    2          1           2          1      3\n",
              "12    2          1           2          2      1\n",
              "13    2          2           1          1      3\n",
              "14    2          2           1          2      2\n",
              "15    2          2           2          1      3\n",
              "16    2          2           2          2      3\n",
              "17    3          1           1          1      3\n",
              "18    3          1           1          2      3\n",
              "19    3          1           2          1      3\n",
              "20    3          1           2          2      1\n",
              "21    3          2           1          1      3\n",
              "22    3          2           1          2      2\n",
              "23    3          2           2          1      3\n",
              "24    3          2           2          2      3"
            ],
            "text/html": [
              "\n",
              "  <div id=\"df-8eade0aa-be16-48d3-9556-c3c19b30323f\">\n",
              "    <div class=\"colab-df-container\">\n",
              "      <div>\n",
              "<style scoped>\n",
              "    .dataframe tbody tr th:only-of-type {\n",
              "        vertical-align: middle;\n",
              "    }\n",
              "\n",
              "    .dataframe tbody tr th {\n",
              "        vertical-align: top;\n",
              "    }\n",
              "\n",
              "    .dataframe thead th {\n",
              "        text-align: right;\n",
              "    }\n",
              "</style>\n",
              "<table border=\"1\" class=\"dataframe\">\n",
              "  <thead>\n",
              "    <tr style=\"text-align: right;\">\n",
              "      <th></th>\n",
              "      <th>age</th>\n",
              "      <th>prescript</th>\n",
              "      <th>astigmatic</th>\n",
              "      <th>tear_rate</th>\n",
              "      <th>class</th>\n",
              "    </tr>\n",
              "  </thead>\n",
              "  <tbody>\n",
              "    <tr>\n",
              "      <th>1</th>\n",
              "      <td>1</td>\n",
              "      <td>1</td>\n",
              "      <td>1</td>\n",
              "      <td>1</td>\n",
              "      <td>3</td>\n",
              "    </tr>\n",
              "    <tr>\n",
              "      <th>2</th>\n",
              "      <td>1</td>\n",
              "      <td>1</td>\n",
              "      <td>1</td>\n",
              "      <td>2</td>\n",
              "      <td>2</td>\n",
              "    </tr>\n",
              "    <tr>\n",
              "      <th>3</th>\n",
              "      <td>1</td>\n",
              "      <td>1</td>\n",
              "      <td>2</td>\n",
              "      <td>1</td>\n",
              "      <td>3</td>\n",
              "    </tr>\n",
              "    <tr>\n",
              "      <th>4</th>\n",
              "      <td>1</td>\n",
              "      <td>1</td>\n",
              "      <td>2</td>\n",
              "      <td>2</td>\n",
              "      <td>1</td>\n",
              "    </tr>\n",
              "    <tr>\n",
              "      <th>5</th>\n",
              "      <td>1</td>\n",
              "      <td>2</td>\n",
              "      <td>1</td>\n",
              "      <td>1</td>\n",
              "      <td>3</td>\n",
              "    </tr>\n",
              "    <tr>\n",
              "      <th>6</th>\n",
              "      <td>1</td>\n",
              "      <td>2</td>\n",
              "      <td>1</td>\n",
              "      <td>2</td>\n",
              "      <td>2</td>\n",
              "    </tr>\n",
              "    <tr>\n",
              "      <th>7</th>\n",
              "      <td>1</td>\n",
              "      <td>2</td>\n",
              "      <td>2</td>\n",
              "      <td>1</td>\n",
              "      <td>3</td>\n",
              "    </tr>\n",
              "    <tr>\n",
              "      <th>8</th>\n",
              "      <td>1</td>\n",
              "      <td>2</td>\n",
              "      <td>2</td>\n",
              "      <td>2</td>\n",
              "      <td>1</td>\n",
              "    </tr>\n",
              "    <tr>\n",
              "      <th>9</th>\n",
              "      <td>2</td>\n",
              "      <td>1</td>\n",
              "      <td>1</td>\n",
              "      <td>1</td>\n",
              "      <td>3</td>\n",
              "    </tr>\n",
              "    <tr>\n",
              "      <th>10</th>\n",
              "      <td>2</td>\n",
              "      <td>1</td>\n",
              "      <td>1</td>\n",
              "      <td>2</td>\n",
              "      <td>2</td>\n",
              "    </tr>\n",
              "    <tr>\n",
              "      <th>11</th>\n",
              "      <td>2</td>\n",
              "      <td>1</td>\n",
              "      <td>2</td>\n",
              "      <td>1</td>\n",
              "      <td>3</td>\n",
              "    </tr>\n",
              "    <tr>\n",
              "      <th>12</th>\n",
              "      <td>2</td>\n",
              "      <td>1</td>\n",
              "      <td>2</td>\n",
              "      <td>2</td>\n",
              "      <td>1</td>\n",
              "    </tr>\n",
              "    <tr>\n",
              "      <th>13</th>\n",
              "      <td>2</td>\n",
              "      <td>2</td>\n",
              "      <td>1</td>\n",
              "      <td>1</td>\n",
              "      <td>3</td>\n",
              "    </tr>\n",
              "    <tr>\n",
              "      <th>14</th>\n",
              "      <td>2</td>\n",
              "      <td>2</td>\n",
              "      <td>1</td>\n",
              "      <td>2</td>\n",
              "      <td>2</td>\n",
              "    </tr>\n",
              "    <tr>\n",
              "      <th>15</th>\n",
              "      <td>2</td>\n",
              "      <td>2</td>\n",
              "      <td>2</td>\n",
              "      <td>1</td>\n",
              "      <td>3</td>\n",
              "    </tr>\n",
              "    <tr>\n",
              "      <th>16</th>\n",
              "      <td>2</td>\n",
              "      <td>2</td>\n",
              "      <td>2</td>\n",
              "      <td>2</td>\n",
              "      <td>3</td>\n",
              "    </tr>\n",
              "    <tr>\n",
              "      <th>17</th>\n",
              "      <td>3</td>\n",
              "      <td>1</td>\n",
              "      <td>1</td>\n",
              "      <td>1</td>\n",
              "      <td>3</td>\n",
              "    </tr>\n",
              "    <tr>\n",
              "      <th>18</th>\n",
              "      <td>3</td>\n",
              "      <td>1</td>\n",
              "      <td>1</td>\n",
              "      <td>2</td>\n",
              "      <td>3</td>\n",
              "    </tr>\n",
              "    <tr>\n",
              "      <th>19</th>\n",
              "      <td>3</td>\n",
              "      <td>1</td>\n",
              "      <td>2</td>\n",
              "      <td>1</td>\n",
              "      <td>3</td>\n",
              "    </tr>\n",
              "    <tr>\n",
              "      <th>20</th>\n",
              "      <td>3</td>\n",
              "      <td>1</td>\n",
              "      <td>2</td>\n",
              "      <td>2</td>\n",
              "      <td>1</td>\n",
              "    </tr>\n",
              "    <tr>\n",
              "      <th>21</th>\n",
              "      <td>3</td>\n",
              "      <td>2</td>\n",
              "      <td>1</td>\n",
              "      <td>1</td>\n",
              "      <td>3</td>\n",
              "    </tr>\n",
              "    <tr>\n",
              "      <th>22</th>\n",
              "      <td>3</td>\n",
              "      <td>2</td>\n",
              "      <td>1</td>\n",
              "      <td>2</td>\n",
              "      <td>2</td>\n",
              "    </tr>\n",
              "    <tr>\n",
              "      <th>23</th>\n",
              "      <td>3</td>\n",
              "      <td>2</td>\n",
              "      <td>2</td>\n",
              "      <td>1</td>\n",
              "      <td>3</td>\n",
              "    </tr>\n",
              "    <tr>\n",
              "      <th>24</th>\n",
              "      <td>3</td>\n",
              "      <td>2</td>\n",
              "      <td>2</td>\n",
              "      <td>2</td>\n",
              "      <td>3</td>\n",
              "    </tr>\n",
              "  </tbody>\n",
              "</table>\n",
              "</div>\n",
              "      <button class=\"colab-df-convert\" onclick=\"convertToInteractive('df-8eade0aa-be16-48d3-9556-c3c19b30323f')\"\n",
              "              title=\"Convert this dataframe to an interactive table.\"\n",
              "              style=\"display:none;\">\n",
              "        \n",
              "  <svg xmlns=\"http://www.w3.org/2000/svg\" height=\"24px\"viewBox=\"0 0 24 24\"\n",
              "       width=\"24px\">\n",
              "    <path d=\"M0 0h24v24H0V0z\" fill=\"none\"/>\n",
              "    <path d=\"M18.56 5.44l.94 2.06.94-2.06 2.06-.94-2.06-.94-.94-2.06-.94 2.06-2.06.94zm-11 1L8.5 8.5l.94-2.06 2.06-.94-2.06-.94L8.5 2.5l-.94 2.06-2.06.94zm10 10l.94 2.06.94-2.06 2.06-.94-2.06-.94-.94-2.06-.94 2.06-2.06.94z\"/><path d=\"M17.41 7.96l-1.37-1.37c-.4-.4-.92-.59-1.43-.59-.52 0-1.04.2-1.43.59L10.3 9.45l-7.72 7.72c-.78.78-.78 2.05 0 2.83L4 21.41c.39.39.9.59 1.41.59.51 0 1.02-.2 1.41-.59l7.78-7.78 2.81-2.81c.8-.78.8-2.07 0-2.86zM5.41 20L4 18.59l7.72-7.72 1.47 1.35L5.41 20z\"/>\n",
              "  </svg>\n",
              "      </button>\n",
              "      \n",
              "  <style>\n",
              "    .colab-df-container {\n",
              "      display:flex;\n",
              "      flex-wrap:wrap;\n",
              "      gap: 12px;\n",
              "    }\n",
              "\n",
              "    .colab-df-convert {\n",
              "      background-color: #E8F0FE;\n",
              "      border: none;\n",
              "      border-radius: 50%;\n",
              "      cursor: pointer;\n",
              "      display: none;\n",
              "      fill: #1967D2;\n",
              "      height: 32px;\n",
              "      padding: 0 0 0 0;\n",
              "      width: 32px;\n",
              "    }\n",
              "\n",
              "    .colab-df-convert:hover {\n",
              "      background-color: #E2EBFA;\n",
              "      box-shadow: 0px 1px 2px rgba(60, 64, 67, 0.3), 0px 1px 3px 1px rgba(60, 64, 67, 0.15);\n",
              "      fill: #174EA6;\n",
              "    }\n",
              "\n",
              "    [theme=dark] .colab-df-convert {\n",
              "      background-color: #3B4455;\n",
              "      fill: #D2E3FC;\n",
              "    }\n",
              "\n",
              "    [theme=dark] .colab-df-convert:hover {\n",
              "      background-color: #434B5C;\n",
              "      box-shadow: 0px 1px 3px 1px rgba(0, 0, 0, 0.15);\n",
              "      filter: drop-shadow(0px 1px 2px rgba(0, 0, 0, 0.3));\n",
              "      fill: #FFFFFF;\n",
              "    }\n",
              "  </style>\n",
              "\n",
              "      <script>\n",
              "        const buttonEl =\n",
              "          document.querySelector('#df-8eade0aa-be16-48d3-9556-c3c19b30323f button.colab-df-convert');\n",
              "        buttonEl.style.display =\n",
              "          google.colab.kernel.accessAllowed ? 'block' : 'none';\n",
              "\n",
              "        async function convertToInteractive(key) {\n",
              "          const element = document.querySelector('#df-8eade0aa-be16-48d3-9556-c3c19b30323f');\n",
              "          const dataTable =\n",
              "            await google.colab.kernel.invokeFunction('convertToInteractive',\n",
              "                                                     [key], {});\n",
              "          if (!dataTable) return;\n",
              "\n",
              "          const docLinkHtml = 'Like what you see? Visit the ' +\n",
              "            '<a target=\"_blank\" href=https://colab.research.google.com/notebooks/data_table.ipynb>data table notebook</a>'\n",
              "            + ' to learn more about interactive tables.';\n",
              "          element.innerHTML = '';\n",
              "          dataTable['output_type'] = 'display_data';\n",
              "          await google.colab.output.renderOutput(dataTable, element);\n",
              "          const docLink = document.createElement('div');\n",
              "          docLink.innerHTML = docLinkHtml;\n",
              "          element.appendChild(docLink);\n",
              "        }\n",
              "      </script>\n",
              "    </div>\n",
              "  </div>\n",
              "  "
            ]
          },
          "metadata": {},
          "execution_count": 215
        }
      ]
    },
    {
      "cell_type": "code",
      "source": [
        "# separate features and target variable\n",
        "X = lenses.drop('class', axis=1)\n",
        "y = lenses['class']"
      ],
      "metadata": {
        "id": "nCbHN28QRxn0"
      },
      "execution_count": 216,
      "outputs": []
    },
    {
      "cell_type": "code",
      "source": [
        "# split the data into training and testing sets\n",
        "X_train, X_test, y_train, y_test = train_test_split(X, y, test_size=0.2, random_state=1)"
      ],
      "metadata": {
        "id": "GOwftJP4RzaV"
      },
      "execution_count": 217,
      "outputs": []
    },
    {
      "cell_type": "code",
      "source": [
        "from sklearn.metrics import accuracy_score\n",
        "\n",
        "# create empty list to store accuracy scores\n",
        "scores = []"
      ],
      "metadata": {
        "id": "okqIUJ55Y09a"
      },
      "execution_count": 218,
      "outputs": []
    },
    {
      "cell_type": "code",
      "source": [
        "# try different values of n_neighbors and calculate accuracy scores\n",
        "for k in range(1, 11):\n",
        "    knn = KNeighborsClassifier(n_neighbors=k)\n",
        "    knn.fit(X_train, y_train)\n",
        "    y_pred = knn.predict(X_test)\n",
        "    acc_score = accuracy_score(y_test, y_pred)\n",
        "    scores.append(acc_score)\n",
        "    print(f\"Accuracy score for k={k}: {acc_score:.2f}\")\n"
      ],
      "metadata": {
        "colab": {
          "base_uri": "https://localhost:8080/"
        },
        "id": "bCMwh3x3R3YJ",
        "outputId": "f5af2822-9442-48b0-e4c9-31f95d04d596"
      },
      "execution_count": 219,
      "outputs": [
        {
          "output_type": "stream",
          "name": "stdout",
          "text": [
            "Accuracy score for k=1: 0.60\n",
            "Accuracy score for k=2: 0.60\n",
            "Accuracy score for k=3: 1.00\n",
            "Accuracy score for k=4: 1.00\n",
            "Accuracy score for k=5: 1.00\n",
            "Accuracy score for k=6: 0.80\n",
            "Accuracy score for k=7: 0.80\n",
            "Accuracy score for k=8: 0.60\n",
            "Accuracy score for k=9: 0.60\n",
            "Accuracy score for k=10: 0.60\n"
          ]
        }
      ]
    },
    {
      "cell_type": "markdown",
      "source": [
        "# Decision Tree"
      ],
      "metadata": {
        "id": "T6w68Rxcahy_"
      }
    },
    {
      "cell_type": "code",
      "source": [
        "# Split the data into features and target variable\n",
        "X = lenses.drop('class', axis=1)\n",
        "y = lenses['class']"
      ],
      "metadata": {
        "id": "DQQxTjMBR51D"
      },
      "execution_count": 220,
      "outputs": []
    },
    {
      "cell_type": "code",
      "source": [
        "# Split the data into training and testing sets\n",
        "X_train, X_test, y_train, y_test = train_test_split(X, y, test_size=0.2, random_state=42)"
      ],
      "metadata": {
        "id": "iIB5bP91R7k4"
      },
      "execution_count": 221,
      "outputs": []
    },
    {
      "cell_type": "code",
      "source": [
        "# Train the decision tree model\n",
        "dt = DecisionTreeClassifier(random_state=42)\n",
        "dt.fit(X_train, y_train)"
      ],
      "metadata": {
        "colab": {
          "base_uri": "https://localhost:8080/"
        },
        "id": "8Q_bKNr8Xue6",
        "outputId": "8794a112-c53e-4cec-b91b-17c097234764"
      },
      "execution_count": 222,
      "outputs": [
        {
          "output_type": "execute_result",
          "data": {
            "text/plain": [
              "DecisionTreeClassifier(random_state=42)"
            ]
          },
          "metadata": {},
          "execution_count": 222
        }
      ]
    },
    {
      "cell_type": "code",
      "source": [
        "# Make predictions on the test data\n",
        "y_pred = dt.predict(X_test)\n",
        "\n",
        "# Calculate the accuracy score\n",
        "accuracy = accuracy_score(y_test, y_pred)\n",
        "print(f\"Accuracy: {accuracy}\")\n"
      ],
      "metadata": {
        "colab": {
          "base_uri": "https://localhost:8080/"
        },
        "id": "OlBbcVTwXu2w",
        "outputId": "22ede479-6f9e-4bb4-d80b-7685944337bd"
      },
      "execution_count": 223,
      "outputs": [
        {
          "output_type": "stream",
          "name": "stdout",
          "text": [
            "Accuracy: 1.0\n"
          ]
        }
      ]
    },
    {
      "cell_type": "markdown",
      "source": [
        "# Neural Network"
      ],
      "metadata": {
        "id": "yVloVEdwbgAb"
      }
    },
    {
      "cell_type": "code",
      "source": [
        "import pandas as pd\n",
        "import tensorflow as tf\n",
        "from sklearn.metrics import accuracy_score\n",
        "from sklearn.model_selection import train_test_split"
      ],
      "metadata": {
        "id": "i48My9blb0cg"
      },
      "execution_count": 224,
      "outputs": []
    },
    {
      "cell_type": "code",
      "source": [
        "# load the Contact Lens dataset\n",
        "url = 'http://archive.ics.uci.edu/ml/machine-learning-databases/lenses/lenses.data'\n",
        "df = pd.read_csv(url, sep='\\s+', header=None, names=['age', 'prescription', 'astigmatic', 'tear_rate', 'class'])"
      ],
      "metadata": {
        "id": "gzrRktnhcC47"
      },
      "execution_count": 225,
      "outputs": []
    },
    {
      "cell_type": "code",
      "source": [
        "\n",
        "X = df.drop('class', axis=1)\n",
        "y = pd.get_dummies(df['class']) # Convert the categorical target variable into one-hot encoded vectors"
      ],
      "metadata": {
        "id": "ad6kisWXctcK"
      },
      "execution_count": 226,
      "outputs": []
    },
    {
      "cell_type": "code",
      "source": [
        "X_train, X_test, y_train, y_test = train_test_split(X, y, test_size=0.2, random_state=42)"
      ],
      "metadata": {
        "id": "-BZacMPXeSOt"
      },
      "execution_count": 227,
      "outputs": []
    },
    {
      "cell_type": "code",
      "source": [
        "model = tf.keras.models.Sequential([\n",
        "tf.keras.layers.Dense(16, input_dim=4, activation='relu'),\n",
        "tf.keras.layers.Dense(3, activation='softmax')\n",
        "])"
      ],
      "metadata": {
        "id": "yiOAbmALeI1u"
      },
      "execution_count": 228,
      "outputs": []
    },
    {
      "cell_type": "code",
      "source": [
        "model.compile(loss='categorical_crossentropy', optimizer='adam', metrics=['accuracy'])"
      ],
      "metadata": {
        "id": "bJtdtg1qeKfs"
      },
      "execution_count": 229,
      "outputs": []
    },
    {
      "cell_type": "code",
      "source": [
        "history=model.fit(X_train, y_train, epochs=100, batch_size=32,validation_split=0.2)"
      ],
      "metadata": {
        "colab": {
          "base_uri": "https://localhost:8080/"
        },
        "id": "D3dKy4TLeLd8",
        "outputId": "b231e41c-d4dd-476e-958d-147ae5d31f99"
      },
      "execution_count": 230,
      "outputs": [
        {
          "output_type": "stream",
          "name": "stdout",
          "text": [
            "Epoch 1/100\n",
            "1/1 [==============================] - 1s 925ms/step - loss: 1.4738 - accuracy: 0.2667 - val_loss: 1.7572 - val_accuracy: 0.0000e+00\n",
            "Epoch 2/100\n",
            "1/1 [==============================] - 0s 56ms/step - loss: 1.4524 - accuracy: 0.2667 - val_loss: 1.7177 - val_accuracy: 0.0000e+00\n",
            "Epoch 3/100\n",
            "1/1 [==============================] - 0s 39ms/step - loss: 1.4315 - accuracy: 0.2667 - val_loss: 1.6789 - val_accuracy: 0.0000e+00\n",
            "Epoch 4/100\n",
            "1/1 [==============================] - 0s 41ms/step - loss: 1.4112 - accuracy: 0.2667 - val_loss: 1.6408 - val_accuracy: 0.0000e+00\n",
            "Epoch 5/100\n",
            "1/1 [==============================] - 0s 38ms/step - loss: 1.3914 - accuracy: 0.2667 - val_loss: 1.6034 - val_accuracy: 0.0000e+00\n",
            "Epoch 6/100\n",
            "1/1 [==============================] - 0s 40ms/step - loss: 1.3723 - accuracy: 0.2667 - val_loss: 1.5667 - val_accuracy: 0.0000e+00\n",
            "Epoch 7/100\n",
            "1/1 [==============================] - 0s 39ms/step - loss: 1.3536 - accuracy: 0.2667 - val_loss: 1.5307 - val_accuracy: 0.0000e+00\n",
            "Epoch 8/100\n",
            "1/1 [==============================] - 0s 57ms/step - loss: 1.3353 - accuracy: 0.2667 - val_loss: 1.4956 - val_accuracy: 0.0000e+00\n",
            "Epoch 9/100\n",
            "1/1 [==============================] - 0s 38ms/step - loss: 1.3177 - accuracy: 0.2667 - val_loss: 1.4613 - val_accuracy: 0.0000e+00\n",
            "Epoch 10/100\n",
            "1/1 [==============================] - 0s 47ms/step - loss: 1.3007 - accuracy: 0.2667 - val_loss: 1.4278 - val_accuracy: 0.0000e+00\n",
            "Epoch 11/100\n",
            "1/1 [==============================] - 0s 61ms/step - loss: 1.2841 - accuracy: 0.2667 - val_loss: 1.3953 - val_accuracy: 0.0000e+00\n",
            "Epoch 12/100\n",
            "1/1 [==============================] - 0s 39ms/step - loss: 1.2681 - accuracy: 0.2667 - val_loss: 1.3636 - val_accuracy: 0.0000e+00\n",
            "Epoch 13/100\n",
            "1/1 [==============================] - 0s 39ms/step - loss: 1.2528 - accuracy: 0.2000 - val_loss: 1.3329 - val_accuracy: 0.0000e+00\n",
            "Epoch 14/100\n",
            "1/1 [==============================] - 0s 38ms/step - loss: 1.2382 - accuracy: 0.2000 - val_loss: 1.3032 - val_accuracy: 0.0000e+00\n",
            "Epoch 15/100\n",
            "1/1 [==============================] - 0s 42ms/step - loss: 1.2243 - accuracy: 0.2000 - val_loss: 1.2745 - val_accuracy: 0.2500\n",
            "Epoch 16/100\n",
            "1/1 [==============================] - 0s 38ms/step - loss: 1.2110 - accuracy: 0.2000 - val_loss: 1.2469 - val_accuracy: 0.2500\n",
            "Epoch 17/100\n",
            "1/1 [==============================] - 0s 42ms/step - loss: 1.1983 - accuracy: 0.2000 - val_loss: 1.2203 - val_accuracy: 0.2500\n",
            "Epoch 18/100\n",
            "1/1 [==============================] - 0s 40ms/step - loss: 1.1861 - accuracy: 0.2000 - val_loss: 1.1948 - val_accuracy: 0.2500\n",
            "Epoch 19/100\n",
            "1/1 [==============================] - 0s 58ms/step - loss: 1.1746 - accuracy: 0.2667 - val_loss: 1.1704 - val_accuracy: 0.2500\n",
            "Epoch 20/100\n",
            "1/1 [==============================] - 0s 37ms/step - loss: 1.1637 - accuracy: 0.2000 - val_loss: 1.1471 - val_accuracy: 0.2500\n",
            "Epoch 21/100\n",
            "1/1 [==============================] - 0s 43ms/step - loss: 1.1534 - accuracy: 0.2000 - val_loss: 1.1249 - val_accuracy: 0.2500\n",
            "Epoch 22/100\n",
            "1/1 [==============================] - 0s 38ms/step - loss: 1.1438 - accuracy: 0.2667 - val_loss: 1.1038 - val_accuracy: 0.2500\n",
            "Epoch 23/100\n",
            "1/1 [==============================] - 0s 40ms/step - loss: 1.1345 - accuracy: 0.2667 - val_loss: 1.0838 - val_accuracy: 0.2500\n",
            "Epoch 24/100\n",
            "1/1 [==============================] - 0s 41ms/step - loss: 1.1258 - accuracy: 0.2667 - val_loss: 1.0649 - val_accuracy: 0.2500\n",
            "Epoch 25/100\n",
            "1/1 [==============================] - 0s 40ms/step - loss: 1.1175 - accuracy: 0.2667 - val_loss: 1.0471 - val_accuracy: 0.2500\n",
            "Epoch 26/100\n",
            "1/1 [==============================] - 0s 61ms/step - loss: 1.1096 - accuracy: 0.3333 - val_loss: 1.0302 - val_accuracy: 0.2500\n",
            "Epoch 27/100\n",
            "1/1 [==============================] - 0s 37ms/step - loss: 1.1022 - accuracy: 0.2667 - val_loss: 1.0140 - val_accuracy: 0.2500\n",
            "Epoch 28/100\n",
            "1/1 [==============================] - 0s 37ms/step - loss: 1.0953 - accuracy: 0.2667 - val_loss: 0.9989 - val_accuracy: 0.5000\n",
            "Epoch 29/100\n",
            "1/1 [==============================] - 0s 39ms/step - loss: 1.0888 - accuracy: 0.2667 - val_loss: 0.9848 - val_accuracy: 0.5000\n",
            "Epoch 30/100\n",
            "1/1 [==============================] - 0s 38ms/step - loss: 1.0829 - accuracy: 0.2667 - val_loss: 0.9717 - val_accuracy: 0.5000\n",
            "Epoch 31/100\n",
            "1/1 [==============================] - 0s 50ms/step - loss: 1.0772 - accuracy: 0.3333 - val_loss: 0.9594 - val_accuracy: 0.5000\n",
            "Epoch 32/100\n",
            "1/1 [==============================] - 0s 60ms/step - loss: 1.0714 - accuracy: 0.3333 - val_loss: 0.9476 - val_accuracy: 0.5000\n",
            "Epoch 33/100\n",
            "1/1 [==============================] - 0s 38ms/step - loss: 1.0661 - accuracy: 0.3333 - val_loss: 0.9365 - val_accuracy: 0.5000\n",
            "Epoch 34/100\n",
            "1/1 [==============================] - 0s 40ms/step - loss: 1.0611 - accuracy: 0.3333 - val_loss: 0.9262 - val_accuracy: 0.5000\n",
            "Epoch 35/100\n",
            "1/1 [==============================] - 0s 45ms/step - loss: 1.0563 - accuracy: 0.4000 - val_loss: 0.9168 - val_accuracy: 0.7500\n",
            "Epoch 36/100\n",
            "1/1 [==============================] - 0s 41ms/step - loss: 1.0518 - accuracy: 0.4000 - val_loss: 0.9081 - val_accuracy: 0.7500\n",
            "Epoch 37/100\n",
            "1/1 [==============================] - 0s 43ms/step - loss: 1.0474 - accuracy: 0.4000 - val_loss: 0.9002 - val_accuracy: 0.7500\n",
            "Epoch 38/100\n",
            "1/1 [==============================] - 0s 39ms/step - loss: 1.0432 - accuracy: 0.4000 - val_loss: 0.8930 - val_accuracy: 0.7500\n",
            "Epoch 39/100\n",
            "1/1 [==============================] - 0s 40ms/step - loss: 1.0391 - accuracy: 0.4000 - val_loss: 0.8864 - val_accuracy: 0.7500\n",
            "Epoch 40/100\n",
            "1/1 [==============================] - 0s 38ms/step - loss: 1.0351 - accuracy: 0.5333 - val_loss: 0.8804 - val_accuracy: 0.7500\n",
            "Epoch 41/100\n",
            "1/1 [==============================] - 0s 40ms/step - loss: 1.0312 - accuracy: 0.5333 - val_loss: 0.8750 - val_accuracy: 0.7500\n",
            "Epoch 42/100\n",
            "1/1 [==============================] - 0s 42ms/step - loss: 1.0275 - accuracy: 0.5333 - val_loss: 0.8702 - val_accuracy: 0.7500\n",
            "Epoch 43/100\n",
            "1/1 [==============================] - 0s 45ms/step - loss: 1.0238 - accuracy: 0.5333 - val_loss: 0.8658 - val_accuracy: 0.7500\n",
            "Epoch 44/100\n",
            "1/1 [==============================] - 0s 40ms/step - loss: 1.0201 - accuracy: 0.5333 - val_loss: 0.8621 - val_accuracy: 0.7500\n",
            "Epoch 45/100\n",
            "1/1 [==============================] - 0s 40ms/step - loss: 1.0163 - accuracy: 0.5333 - val_loss: 0.8590 - val_accuracy: 0.7500\n",
            "Epoch 46/100\n",
            "1/1 [==============================] - 0s 41ms/step - loss: 1.0126 - accuracy: 0.5333 - val_loss: 0.8562 - val_accuracy: 0.7500\n",
            "Epoch 47/100\n",
            "1/1 [==============================] - 0s 46ms/step - loss: 1.0089 - accuracy: 0.5333 - val_loss: 0.8537 - val_accuracy: 0.7500\n",
            "Epoch 48/100\n",
            "1/1 [==============================] - 0s 58ms/step - loss: 1.0053 - accuracy: 0.5333 - val_loss: 0.8516 - val_accuracy: 0.7500\n",
            "Epoch 49/100\n",
            "1/1 [==============================] - 0s 39ms/step - loss: 1.0017 - accuracy: 0.5333 - val_loss: 0.8497 - val_accuracy: 0.7500\n",
            "Epoch 50/100\n",
            "1/1 [==============================] - 0s 42ms/step - loss: 0.9982 - accuracy: 0.5333 - val_loss: 0.8482 - val_accuracy: 0.7500\n",
            "Epoch 51/100\n",
            "1/1 [==============================] - 0s 42ms/step - loss: 0.9946 - accuracy: 0.5333 - val_loss: 0.8469 - val_accuracy: 0.7500\n",
            "Epoch 52/100\n",
            "1/1 [==============================] - 0s 42ms/step - loss: 0.9911 - accuracy: 0.5333 - val_loss: 0.8458 - val_accuracy: 0.7500\n",
            "Epoch 53/100\n",
            "1/1 [==============================] - 0s 55ms/step - loss: 0.9874 - accuracy: 0.5333 - val_loss: 0.8448 - val_accuracy: 0.7500\n",
            "Epoch 54/100\n",
            "1/1 [==============================] - 0s 40ms/step - loss: 0.9838 - accuracy: 0.5333 - val_loss: 0.8440 - val_accuracy: 0.7500\n",
            "Epoch 55/100\n",
            "1/1 [==============================] - 0s 45ms/step - loss: 0.9802 - accuracy: 0.5333 - val_loss: 0.8434 - val_accuracy: 0.7500\n",
            "Epoch 56/100\n",
            "1/1 [==============================] - 0s 38ms/step - loss: 0.9767 - accuracy: 0.5333 - val_loss: 0.8428 - val_accuracy: 0.7500\n",
            "Epoch 57/100\n",
            "1/1 [==============================] - 0s 40ms/step - loss: 0.9731 - accuracy: 0.5333 - val_loss: 0.8422 - val_accuracy: 0.7500\n",
            "Epoch 58/100\n",
            "1/1 [==============================] - 0s 40ms/step - loss: 0.9697 - accuracy: 0.5333 - val_loss: 0.8418 - val_accuracy: 0.7500\n",
            "Epoch 59/100\n",
            "1/1 [==============================] - 0s 47ms/step - loss: 0.9664 - accuracy: 0.5333 - val_loss: 0.8414 - val_accuracy: 0.7500\n",
            "Epoch 60/100\n",
            "1/1 [==============================] - 0s 38ms/step - loss: 0.9631 - accuracy: 0.5333 - val_loss: 0.8411 - val_accuracy: 0.7500\n",
            "Epoch 61/100\n",
            "1/1 [==============================] - 0s 37ms/step - loss: 0.9598 - accuracy: 0.5333 - val_loss: 0.8408 - val_accuracy: 0.7500\n",
            "Epoch 62/100\n",
            "1/1 [==============================] - 0s 39ms/step - loss: 0.9565 - accuracy: 0.5333 - val_loss: 0.8406 - val_accuracy: 0.7500\n",
            "Epoch 63/100\n",
            "1/1 [==============================] - 0s 36ms/step - loss: 0.9533 - accuracy: 0.5333 - val_loss: 0.8404 - val_accuracy: 0.7500\n",
            "Epoch 64/100\n",
            "1/1 [==============================] - 0s 45ms/step - loss: 0.9502 - accuracy: 0.5333 - val_loss: 0.8402 - val_accuracy: 0.7500\n",
            "Epoch 65/100\n",
            "1/1 [==============================] - 0s 38ms/step - loss: 0.9472 - accuracy: 0.5333 - val_loss: 0.8401 - val_accuracy: 0.7500\n",
            "Epoch 66/100\n",
            "1/1 [==============================] - 0s 39ms/step - loss: 0.9443 - accuracy: 0.5333 - val_loss: 0.8400 - val_accuracy: 0.7500\n",
            "Epoch 67/100\n",
            "1/1 [==============================] - 0s 39ms/step - loss: 0.9413 - accuracy: 0.5333 - val_loss: 0.8399 - val_accuracy: 0.7500\n",
            "Epoch 68/100\n",
            "1/1 [==============================] - 0s 39ms/step - loss: 0.9383 - accuracy: 0.5333 - val_loss: 0.8397 - val_accuracy: 0.7500\n",
            "Epoch 69/100\n",
            "1/1 [==============================] - 0s 40ms/step - loss: 0.9354 - accuracy: 0.5333 - val_loss: 0.8396 - val_accuracy: 0.7500\n",
            "Epoch 70/100\n",
            "1/1 [==============================] - 0s 44ms/step - loss: 0.9325 - accuracy: 0.5333 - val_loss: 0.8395 - val_accuracy: 0.7500\n",
            "Epoch 71/100\n",
            "1/1 [==============================] - 0s 54ms/step - loss: 0.9296 - accuracy: 0.5333 - val_loss: 0.8393 - val_accuracy: 0.7500\n",
            "Epoch 72/100\n",
            "1/1 [==============================] - 0s 40ms/step - loss: 0.9269 - accuracy: 0.5333 - val_loss: 0.8392 - val_accuracy: 0.7500\n",
            "Epoch 73/100\n",
            "1/1 [==============================] - 0s 46ms/step - loss: 0.9242 - accuracy: 0.5333 - val_loss: 0.8390 - val_accuracy: 0.7500\n",
            "Epoch 74/100\n",
            "1/1 [==============================] - 0s 43ms/step - loss: 0.9215 - accuracy: 0.5333 - val_loss: 0.8389 - val_accuracy: 0.7500\n",
            "Epoch 75/100\n",
            "1/1 [==============================] - 0s 45ms/step - loss: 0.9188 - accuracy: 0.5333 - val_loss: 0.8387 - val_accuracy: 0.7500\n",
            "Epoch 76/100\n",
            "1/1 [==============================] - 0s 38ms/step - loss: 0.9161 - accuracy: 0.5333 - val_loss: 0.8386 - val_accuracy: 0.7500\n",
            "Epoch 77/100\n",
            "1/1 [==============================] - 0s 44ms/step - loss: 0.9135 - accuracy: 0.5333 - val_loss: 0.8384 - val_accuracy: 0.7500\n",
            "Epoch 78/100\n",
            "1/1 [==============================] - 0s 56ms/step - loss: 0.9108 - accuracy: 0.5333 - val_loss: 0.8382 - val_accuracy: 0.7500\n",
            "Epoch 79/100\n",
            "1/1 [==============================] - 0s 39ms/step - loss: 0.9082 - accuracy: 0.5333 - val_loss: 0.8379 - val_accuracy: 0.7500\n",
            "Epoch 80/100\n",
            "1/1 [==============================] - 0s 39ms/step - loss: 0.9056 - accuracy: 0.5333 - val_loss: 0.8376 - val_accuracy: 0.7500\n",
            "Epoch 81/100\n",
            "1/1 [==============================] - 0s 37ms/step - loss: 0.9030 - accuracy: 0.5333 - val_loss: 0.8372 - val_accuracy: 0.7500\n",
            "Epoch 82/100\n",
            "1/1 [==============================] - 0s 39ms/step - loss: 0.9004 - accuracy: 0.5333 - val_loss: 0.8368 - val_accuracy: 0.7500\n",
            "Epoch 83/100\n",
            "1/1 [==============================] - 0s 38ms/step - loss: 0.8978 - accuracy: 0.5333 - val_loss: 0.8365 - val_accuracy: 0.7500\n",
            "Epoch 84/100\n",
            "1/1 [==============================] - 0s 39ms/step - loss: 0.8953 - accuracy: 0.5333 - val_loss: 0.8361 - val_accuracy: 0.7500\n",
            "Epoch 85/100\n",
            "1/1 [==============================] - 0s 39ms/step - loss: 0.8927 - accuracy: 0.5333 - val_loss: 0.8357 - val_accuracy: 0.7500\n",
            "Epoch 86/100\n",
            "1/1 [==============================] - 0s 39ms/step - loss: 0.8902 - accuracy: 0.5333 - val_loss: 0.8353 - val_accuracy: 0.7500\n",
            "Epoch 87/100\n",
            "1/1 [==============================] - 0s 53ms/step - loss: 0.8876 - accuracy: 0.5333 - val_loss: 0.8349 - val_accuracy: 0.7500\n",
            "Epoch 88/100\n",
            "1/1 [==============================] - 0s 41ms/step - loss: 0.8851 - accuracy: 0.5333 - val_loss: 0.8344 - val_accuracy: 0.7500\n",
            "Epoch 89/100\n",
            "1/1 [==============================] - 0s 38ms/step - loss: 0.8826 - accuracy: 0.5333 - val_loss: 0.8339 - val_accuracy: 0.7500\n",
            "Epoch 90/100\n",
            "1/1 [==============================] - 0s 39ms/step - loss: 0.8800 - accuracy: 0.5333 - val_loss: 0.8334 - val_accuracy: 0.7500\n",
            "Epoch 91/100\n",
            "1/1 [==============================] - 0s 60ms/step - loss: 0.8775 - accuracy: 0.5333 - val_loss: 0.8329 - val_accuracy: 0.7500\n",
            "Epoch 92/100\n",
            "1/1 [==============================] - 0s 41ms/step - loss: 0.8750 - accuracy: 0.5333 - val_loss: 0.8322 - val_accuracy: 0.7500\n",
            "Epoch 93/100\n",
            "1/1 [==============================] - 0s 39ms/step - loss: 0.8725 - accuracy: 0.5333 - val_loss: 0.8316 - val_accuracy: 0.7500\n",
            "Epoch 94/100\n",
            "1/1 [==============================] - 0s 40ms/step - loss: 0.8701 - accuracy: 0.5333 - val_loss: 0.8308 - val_accuracy: 0.7500\n",
            "Epoch 95/100\n",
            "1/1 [==============================] - 0s 43ms/step - loss: 0.8676 - accuracy: 0.5333 - val_loss: 0.8300 - val_accuracy: 0.7500\n",
            "Epoch 96/100\n",
            "1/1 [==============================] - 0s 57ms/step - loss: 0.8651 - accuracy: 0.5333 - val_loss: 0.8291 - val_accuracy: 0.7500\n",
            "Epoch 97/100\n",
            "1/1 [==============================] - 0s 45ms/step - loss: 0.8626 - accuracy: 0.5333 - val_loss: 0.8282 - val_accuracy: 0.7500\n",
            "Epoch 98/100\n",
            "1/1 [==============================] - 0s 42ms/step - loss: 0.8601 - accuracy: 0.5333 - val_loss: 0.8272 - val_accuracy: 0.7500\n",
            "Epoch 99/100\n",
            "1/1 [==============================] - 0s 41ms/step - loss: 0.8577 - accuracy: 0.5333 - val_loss: 0.8262 - val_accuracy: 0.7500\n",
            "Epoch 100/100\n",
            "1/1 [==============================] - 0s 42ms/step - loss: 0.8552 - accuracy: 0.5333 - val_loss: 0.8253 - val_accuracy: 0.7500\n"
          ]
        }
      ]
    },
    {
      "cell_type": "code",
      "source": [
        "# save model\n",
        "model.save('path/to/model.h5')"
      ],
      "metadata": {
        "id": "4J1vip0ufLqt"
      },
      "execution_count": 231,
      "outputs": []
    },
    {
      "cell_type": "code",
      "source": [
        "import matplotlib.pyplot as plt\n",
        "plt.plot(history.history['accuracy'],label='accuracy')\n",
        "plt.plot(history.history['val_accuracy'],label='validation_accuracy')\n",
        "plt.legend()\n",
        "plt.show()"
      ],
      "metadata": {
        "colab": {
          "base_uri": "https://localhost:8080/",
          "height": 265
        },
        "id": "Om41EpUinpfC",
        "outputId": "6bc97958-6e79-48a5-d911-db328a4d1040"
      },
      "execution_count": 232,
      "outputs": [
        {
          "output_type": "display_data",
          "data": {
            "text/plain": [
              "<Figure size 432x288 with 1 Axes>"
            ],
            "image/png": "[encoded data removed]"
          },
          "metadata": {
            "needs_background": "light"
          }
        }
      ]
    },
    {
      "cell_type": "markdown",
      "source": [
        "# Using MultiLayer Perceptron"
      ],
      "metadata": {
        "id": "s7-nRNJVmsTB"
      }
    },
    {
      "cell_type": "code",
      "source": [
        "import pandas as pd\n",
        "from sklearn.neural_network import MLPClassifier\n",
        "from sklearn.metrics import accuracy_score\n",
        "from sklearn.model_selection import train_test_split\n",
        "\n",
        "# Load the data\n",
        "url = 'http://archive.ics.uci.edu/ml/machine-learning-databases/lenses/lenses.data'\n",
        "df = pd.read_csv(url, sep='\\s+', header=None, names=['age', 'prescription', 'astigmatic', 'tear_rate', 'class'])"
      ],
      "metadata": {
        "id": "Jwps0S6_lUgo"
      },
      "execution_count": 233,
      "outputs": []
    },
    {
      "cell_type": "code",
      "source": [
        "# Split the data into features and target variable\n",
        "X = df.drop('class', axis=1)\n",
        "y = df['class']"
      ],
      "metadata": {
        "id": "DPOgEO9OlXLi"
      },
      "execution_count": 234,
      "outputs": []
    },
    {
      "cell_type": "code",
      "source": [
        "# Split the data into training and testing sets\n",
        "X_train, X_test, y_train, y_test = train_test_split(X, y, test_size=0.3, random_state=42)"
      ],
      "metadata": {
        "id": "B4BDkRoblnz8"
      },
      "execution_count": 235,
      "outputs": []
    },
    {
      "cell_type": "code",
      "source": [
        "# Build the neural network model\n",
        "mlp = MLPClassifier(hidden_layer_sizes=(16, 8), activation='relu', solver='adam', max_iter=1000)\n",
        "mlp.fit(X_train, y_train)\n"
      ],
      "metadata": {
        "colab": {
          "base_uri": "https://localhost:8080/"
        },
        "id": "pYDRiXrslpYK",
        "outputId": "762201ef-d2ea-4426-c3c0-1012df31cc28"
      },
      "execution_count": 236,
      "outputs": [
        {
          "output_type": "execute_result",
          "data": {
            "text/plain": [
              "MLPClassifier(hidden_layer_sizes=(16, 8), max_iter=1000)"
            ]
          },
          "metadata": {},
          "execution_count": 236
        }
      ]
    },
    {
      "cell_type": "code",
      "source": [
        "# Make predictions on the test set\n",
        "y_pred = mlp.predict(X_test)"
      ],
      "metadata": {
        "id": "6SX4y3VTlqsv"
      },
      "execution_count": 237,
      "outputs": []
    },
    {
      "cell_type": "code",
      "source": [
        "# Calculate the accuracy score\n",
        "acc_score = accuracy_score(y_test, y_pred)\n",
        "print(f\"Accuracy score: {acc_score:.2f}\")"
      ],
      "metadata": {
        "colab": {
          "base_uri": "https://localhost:8080/"
        },
        "id": "kdrz4nPeniwX",
        "outputId": "b2b5b1b6-b52e-4e11-8b51-9abc096c51c8"
      },
      "execution_count": 238,
      "outputs": [
        {
          "output_type": "stream",
          "name": "stdout",
          "text": [
            "Accuracy score: 0.75\n"
          ]
        }
      ]
    }
  ]
}