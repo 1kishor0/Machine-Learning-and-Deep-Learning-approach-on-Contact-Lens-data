{
  "nbformat": 4,
  "nbformat_minor": 0,
  "metadata": {
    "colab": {
      "provenance": [],
      "authorship_tag": "ABX9TyMA6uInvEBPwdl0dK6JHuiS",
      "include_colab_link": true
    },
    "kernelspec": {
      "name": "python3",
      "display_name": "Python 3"
    },
    "language_info": {
      "name": "python"
    }
  },
  "cells": [
    {
      "cell_type": "markdown",
      "metadata": {
        "id": "view-in-github",
        "colab_type": "text"
      },
      "source": [
        "<a href=\"https://colab.research.google.com/github/1kishor0/Machine-Learning-and-Deep-Learning-approach-on-Contact-Lens-data/blob/main/Machine_Learning_and_Deep_Learning_approach_on_Contact_Lens_data.ipynb\" target=\"_parent\"><img src=\"https://colab.research.google.com/assets/colab-badge.svg\" alt=\"Open In Colab\"/></a>"
      ]
    },
    {
      "cell_type": "markdown",
      "source": [
        "# KNN Classifier"
      ],
      "metadata": {
        "id": "evjsMoLFXfSF"
      }
    },
    {
      "cell_type": "code",
      "execution_count": 53,
      "metadata": {
        "id": "YXbBsEYtqQiQ"
      },
      "outputs": [],
      "source": [
        "import pandas as pd\n",
        "from sklearn.neighbors import KNeighborsClassifier\n",
        "from sklearn.model_selection import train_test_split"
      ]
    },
    {
      "cell_type": "code",
      "source": [
        "# load the Contact Lens dataset\n",
        "url = 'http://archive.ics.uci.edu/ml/machine-learning-databases/lenses/lenses.data'\n",
        "lenses = pd.read_csv(url, header=None, delim_whitespace=True, names=['age', 'prescript', 'astigmatic', 'tear_rate', 'class'])"
      ],
      "metadata": {
        "id": "1XyNls7qRvlG"
      },
      "execution_count": 54,
      "outputs": []
    },
    {
      "cell_type": "code",
      "source": [
        "# drop the missing values\n",
        "#lenses = lenses.dropna()"
      ],
      "metadata": {
        "id": "pH8cUkFMStP0"
      },
      "execution_count": 55,
      "outputs": []
    },
    {
      "cell_type": "code",
      "source": [
        "lenses"
      ],
      "metadata": {
        "colab": {
          "base_uri": "https://localhost:8080/",
          "height": 802
        },
        "id": "J8FRBVjFe2Gf",
        "outputId": "3a5a1882-6ce2-4a52-f063-638902543f7a"
      },
      "execution_count": 113,
      "outputs": [
        {
          "output_type": "execute_result",
          "data": {
            "text/plain": [
              "    age  prescript  astigmatic  tear_rate  class\n",
              "1     1          1           1          1      3\n",
              "2     1          1           1          2      2\n",
              "3     1          1           2          1      3\n",
              "4     1          1           2          2      1\n",
              "5     1          2           1          1      3\n",
              "6     1          2           1          2      2\n",
              "7     1          2           2          1      3\n",
              "8     1          2           2          2      1\n",
              "9     2          1           1          1      3\n",
              "10    2          1           1          2      2\n",
              "11    2          1           2          1      3\n",
              "12    2          1           2          2      1\n",
              "13    2          2           1          1      3\n",
              "14    2          2           1          2      2\n",
              "15    2          2           2          1      3\n",
              "16    2          2           2          2      3\n",
              "17    3          1           1          1      3\n",
              "18    3          1           1          2      3\n",
              "19    3          1           2          1      3\n",
              "20    3          1           2          2      1\n",
              "21    3          2           1          1      3\n",
              "22    3          2           1          2      2\n",
              "23    3          2           2          1      3\n",
              "24    3          2           2          2      3"
            ],
            "text/html": [
              "\n",
              "  <div id=\"df-ec3a36fe-1cc1-4c51-8d3d-f75b88275e48\">\n",
              "    <div class=\"colab-df-container\">\n",
              "      <div>\n",
              "<style scoped>\n",
              "    .dataframe tbody tr th:only-of-type {\n",
              "        vertical-align: middle;\n",
              "    }\n",
              "\n",
              "    .dataframe tbody tr th {\n",
              "        vertical-align: top;\n",
              "    }\n",
              "\n",
              "    .dataframe thead th {\n",
              "        text-align: right;\n",
              "    }\n",
              "</style>\n",
              "<table border=\"1\" class=\"dataframe\">\n",
              "  <thead>\n",
              "    <tr style=\"text-align: right;\">\n",
              "      <th></th>\n",
              "      <th>age</th>\n",
              "      <th>prescript</th>\n",
              "      <th>astigmatic</th>\n",
              "      <th>tear_rate</th>\n",
              "      <th>class</th>\n",
              "    </tr>\n",
              "  </thead>\n",
              "  <tbody>\n",
              "    <tr>\n",
              "      <th>1</th>\n",
              "      <td>1</td>\n",
              "      <td>1</td>\n",
              "      <td>1</td>\n",
              "      <td>1</td>\n",
              "      <td>3</td>\n",
              "    </tr>\n",
              "    <tr>\n",
              "      <th>2</th>\n",
              "      <td>1</td>\n",
              "      <td>1</td>\n",
              "      <td>1</td>\n",
              "      <td>2</td>\n",
              "      <td>2</td>\n",
              "    </tr>\n",
              "    <tr>\n",
              "      <th>3</th>\n",
              "      <td>1</td>\n",
              "      <td>1</td>\n",
              "      <td>2</td>\n",
              "      <td>1</td>\n",
              "      <td>3</td>\n",
              "    </tr>\n",
              "    <tr>\n",
              "      <th>4</th>\n",
              "      <td>1</td>\n",
              "      <td>1</td>\n",
              "      <td>2</td>\n",
              "      <td>2</td>\n",
              "      <td>1</td>\n",
              "    </tr>\n",
              "    <tr>\n",
              "      <th>5</th>\n",
              "      <td>1</td>\n",
              "      <td>2</td>\n",
              "      <td>1</td>\n",
              "      <td>1</td>\n",
              "      <td>3</td>\n",
              "    </tr>\n",
              "    <tr>\n",
              "      <th>6</th>\n",
              "      <td>1</td>\n",
              "      <td>2</td>\n",
              "      <td>1</td>\n",
              "      <td>2</td>\n",
              "      <td>2</td>\n",
              "    </tr>\n",
              "    <tr>\n",
              "      <th>7</th>\n",
              "      <td>1</td>\n",
              "      <td>2</td>\n",
              "      <td>2</td>\n",
              "      <td>1</td>\n",
              "      <td>3</td>\n",
              "    </tr>\n",
              "    <tr>\n",
              "      <th>8</th>\n",
              "      <td>1</td>\n",
              "      <td>2</td>\n",
              "      <td>2</td>\n",
              "      <td>2</td>\n",
              "      <td>1</td>\n",
              "    </tr>\n",
              "    <tr>\n",
              "      <th>9</th>\n",
              "      <td>2</td>\n",
              "      <td>1</td>\n",
              "      <td>1</td>\n",
              "      <td>1</td>\n",
              "      <td>3</td>\n",
              "    </tr>\n",
              "    <tr>\n",
              "      <th>10</th>\n",
              "      <td>2</td>\n",
              "      <td>1</td>\n",
              "      <td>1</td>\n",
              "      <td>2</td>\n",
              "      <td>2</td>\n",
              "    </tr>\n",
              "    <tr>\n",
              "      <th>11</th>\n",
              "      <td>2</td>\n",
              "      <td>1</td>\n",
              "      <td>2</td>\n",
              "      <td>1</td>\n",
              "      <td>3</td>\n",
              "    </tr>\n",
              "    <tr>\n",
              "      <th>12</th>\n",
              "      <td>2</td>\n",
              "      <td>1</td>\n",
              "      <td>2</td>\n",
              "      <td>2</td>\n",
              "      <td>1</td>\n",
              "    </tr>\n",
              "    <tr>\n",
              "      <th>13</th>\n",
              "      <td>2</td>\n",
              "      <td>2</td>\n",
              "      <td>1</td>\n",
              "      <td>1</td>\n",
              "      <td>3</td>\n",
              "    </tr>\n",
              "    <tr>\n",
              "      <th>14</th>\n",
              "      <td>2</td>\n",
              "      <td>2</td>\n",
              "      <td>1</td>\n",
              "      <td>2</td>\n",
              "      <td>2</td>\n",
              "    </tr>\n",
              "    <tr>\n",
              "      <th>15</th>\n",
              "      <td>2</td>\n",
              "      <td>2</td>\n",
              "      <td>2</td>\n",
              "      <td>1</td>\n",
              "      <td>3</td>\n",
              "    </tr>\n",
              "    <tr>\n",
              "      <th>16</th>\n",
              "      <td>2</td>\n",
              "      <td>2</td>\n",
              "      <td>2</td>\n",
              "      <td>2</td>\n",
              "      <td>3</td>\n",
              "    </tr>\n",
              "    <tr>\n",
              "      <th>17</th>\n",
              "      <td>3</td>\n",
              "      <td>1</td>\n",
              "      <td>1</td>\n",
              "      <td>1</td>\n",
              "      <td>3</td>\n",
              "    </tr>\n",
              "    <tr>\n",
              "      <th>18</th>\n",
              "      <td>3</td>\n",
              "      <td>1</td>\n",
              "      <td>1</td>\n",
              "      <td>2</td>\n",
              "      <td>3</td>\n",
              "    </tr>\n",
              "    <tr>\n",
              "      <th>19</th>\n",
              "      <td>3</td>\n",
              "      <td>1</td>\n",
              "      <td>2</td>\n",
              "      <td>1</td>\n",
              "      <td>3</td>\n",
              "    </tr>\n",
              "    <tr>\n",
              "      <th>20</th>\n",
              "      <td>3</td>\n",
              "      <td>1</td>\n",
              "      <td>2</td>\n",
              "      <td>2</td>\n",
              "      <td>1</td>\n",
              "    </tr>\n",
              "    <tr>\n",
              "      <th>21</th>\n",
              "      <td>3</td>\n",
              "      <td>2</td>\n",
              "      <td>1</td>\n",
              "      <td>1</td>\n",
              "      <td>3</td>\n",
              "    </tr>\n",
              "    <tr>\n",
              "      <th>22</th>\n",
              "      <td>3</td>\n",
              "      <td>2</td>\n",
              "      <td>1</td>\n",
              "      <td>2</td>\n",
              "      <td>2</td>\n",
              "    </tr>\n",
              "    <tr>\n",
              "      <th>23</th>\n",
              "      <td>3</td>\n",
              "      <td>2</td>\n",
              "      <td>2</td>\n",
              "      <td>1</td>\n",
              "      <td>3</td>\n",
              "    </tr>\n",
              "    <tr>\n",
              "      <th>24</th>\n",
              "      <td>3</td>\n",
              "      <td>2</td>\n",
              "      <td>2</td>\n",
              "      <td>2</td>\n",
              "      <td>3</td>\n",
              "    </tr>\n",
              "  </tbody>\n",
              "</table>\n",
              "</div>\n",
              "      <button class=\"colab-df-convert\" onclick=\"convertToInteractive('df-ec3a36fe-1cc1-4c51-8d3d-f75b88275e48')\"\n",
              "              title=\"Convert this dataframe to an interactive table.\"\n",
              "              style=\"display:none;\">\n",
              "        \n",
              "  <svg xmlns=\"http://www.w3.org/2000/svg\" height=\"24px\"viewBox=\"0 0 24 24\"\n",
              "       width=\"24px\">\n",
              "    <path d=\"M0 0h24v24H0V0z\" fill=\"none\"/>\n",
              "    <path d=\"M18.56 5.44l.94 2.06.94-2.06 2.06-.94-2.06-.94-.94-2.06-.94 2.06-2.06.94zm-11 1L8.5 8.5l.94-2.06 2.06-.94-2.06-.94L8.5 2.5l-.94 2.06-2.06.94zm10 10l.94 2.06.94-2.06 2.06-.94-2.06-.94-.94-2.06-.94 2.06-2.06.94z\"/><path d=\"M17.41 7.96l-1.37-1.37c-.4-.4-.92-.59-1.43-.59-.52 0-1.04.2-1.43.59L10.3 9.45l-7.72 7.72c-.78.78-.78 2.05 0 2.83L4 21.41c.39.39.9.59 1.41.59.51 0 1.02-.2 1.41-.59l7.78-7.78 2.81-2.81c.8-.78.8-2.07 0-2.86zM5.41 20L4 18.59l7.72-7.72 1.47 1.35L5.41 20z\"/>\n",
              "  </svg>\n",
              "      </button>\n",
              "      \n",
              "  <style>\n",
              "    .colab-df-container {\n",
              "      display:flex;\n",
              "      flex-wrap:wrap;\n",
              "      gap: 12px;\n",
              "    }\n",
              "\n",
              "    .colab-df-convert {\n",
              "      background-color: #E8F0FE;\n",
              "      border: none;\n",
              "      border-radius: 50%;\n",
              "      cursor: pointer;\n",
              "      display: none;\n",
              "      fill: #1967D2;\n",
              "      height: 32px;\n",
              "      padding: 0 0 0 0;\n",
              "      width: 32px;\n",
              "    }\n",
              "\n",
              "    .colab-df-convert:hover {\n",
              "      background-color: #E2EBFA;\n",
              "      box-shadow: 0px 1px 2px rgba(60, 64, 67, 0.3), 0px 1px 3px 1px rgba(60, 64, 67, 0.15);\n",
              "      fill: #174EA6;\n",
              "    }\n",
              "\n",
              "    [theme=dark] .colab-df-convert {\n",
              "      background-color: #3B4455;\n",
              "      fill: #D2E3FC;\n",
              "    }\n",
              "\n",
              "    [theme=dark] .colab-df-convert:hover {\n",
              "      background-color: #434B5C;\n",
              "      box-shadow: 0px 1px 3px 1px rgba(0, 0, 0, 0.15);\n",
              "      filter: drop-shadow(0px 1px 2px rgba(0, 0, 0, 0.3));\n",
              "      fill: #FFFFFF;\n",
              "    }\n",
              "  </style>\n",
              "\n",
              "      <script>\n",
              "        const buttonEl =\n",
              "          document.querySelector('#df-ec3a36fe-1cc1-4c51-8d3d-f75b88275e48 button.colab-df-convert');\n",
              "        buttonEl.style.display =\n",
              "          google.colab.kernel.accessAllowed ? 'block' : 'none';\n",
              "\n",
              "        async function convertToInteractive(key) {\n",
              "          const element = document.querySelector('#df-ec3a36fe-1cc1-4c51-8d3d-f75b88275e48');\n",
              "          const dataTable =\n",
              "            await google.colab.kernel.invokeFunction('convertToInteractive',\n",
              "                                                     [key], {});\n",
              "          if (!dataTable) return;\n",
              "\n",
              "          const docLinkHtml = 'Like what you see? Visit the ' +\n",
              "            '<a target=\"_blank\" href=https://colab.research.google.com/notebooks/data_table.ipynb>data table notebook</a>'\n",
              "            + ' to learn more about interactive tables.';\n",
              "          element.innerHTML = '';\n",
              "          dataTable['output_type'] = 'display_data';\n",
              "          await google.colab.output.renderOutput(dataTable, element);\n",
              "          const docLink = document.createElement('div');\n",
              "          docLink.innerHTML = docLinkHtml;\n",
              "          element.appendChild(docLink);\n",
              "        }\n",
              "      </script>\n",
              "    </div>\n",
              "  </div>\n",
              "  "
            ]
          },
          "metadata": {},
          "execution_count": 113
        }
      ]
    },
    {
      "cell_type": "code",
      "source": [
        "# separate features and target variable\n",
        "X = lenses.drop('class', axis=1)\n",
        "y = lenses['class']"
      ],
      "metadata": {
        "id": "nCbHN28QRxn0"
      },
      "execution_count": 56,
      "outputs": []
    },
    {
      "cell_type": "code",
      "source": [
        "# split the data into training and testing sets\n",
        "X_train, X_test, y_train, y_test = train_test_split(X, y, test_size=0.2, random_state=1)"
      ],
      "metadata": {
        "id": "GOwftJP4RzaV"
      },
      "execution_count": 57,
      "outputs": []
    },
    {
      "cell_type": "code",
      "source": [
        "from sklearn.metrics import accuracy_score\n",
        "\n",
        "# create empty list to store accuracy scores\n",
        "scores = []"
      ],
      "metadata": {
        "id": "okqIUJ55Y09a"
      },
      "execution_count": 73,
      "outputs": []
    },
    {
      "cell_type": "code",
      "source": [
        "# try different values of n_neighbors and calculate accuracy scores\n",
        "for k in range(1, 11):\n",
        "    knn = KNeighborsClassifier(n_neighbors=k)\n",
        "    knn.fit(X_train, y_train)\n",
        "    y_pred = knn.predict(X_test)\n",
        "    acc_score = accuracy_score(y_test, y_pred)\n",
        "    scores.append(acc_score)\n",
        "    print(f\"Accuracy score for k={k}: {acc_score:.2f}\")\n"
      ],
      "metadata": {
        "colab": {
          "base_uri": "https://localhost:8080/"
        },
        "id": "bCMwh3x3R3YJ",
        "outputId": "0c0baf51-1ae0-408a-f02d-e4679ecaff7e"
      },
      "execution_count": 81,
      "outputs": [
        {
          "output_type": "stream",
          "name": "stdout",
          "text": [
            "Accuracy score for k=1: 0.60\n",
            "Accuracy score for k=2: 0.60\n",
            "Accuracy score for k=3: 1.00\n",
            "Accuracy score for k=4: 1.00\n",
            "Accuracy score for k=5: 1.00\n",
            "Accuracy score for k=6: 0.80\n",
            "Accuracy score for k=7: 0.80\n",
            "Accuracy score for k=8: 0.60\n",
            "Accuracy score for k=9: 0.60\n",
            "Accuracy score for k=10: 0.60\n"
          ]
        }
      ]
    },
    {
      "cell_type": "markdown",
      "source": [
        "# Decision Tree"
      ],
      "metadata": {
        "id": "T6w68Rxcahy_"
      }
    },
    {
      "cell_type": "code",
      "source": [
        "# Split the data into features and target variable\n",
        "X = lenses.drop('class', axis=1)\n",
        "y = lenses['class']"
      ],
      "metadata": {
        "id": "DQQxTjMBR51D"
      },
      "execution_count": 125,
      "outputs": []
    },
    {
      "cell_type": "code",
      "source": [
        "# Split the data into training and testing sets\n",
        "X_train, X_test, y_train, y_test = train_test_split(X, y, test_size=0.2, random_state=42)"
      ],
      "metadata": {
        "id": "iIB5bP91R7k4"
      },
      "execution_count": 126,
      "outputs": []
    },
    {
      "cell_type": "code",
      "source": [
        "# Train the decision tree model\n",
        "dt = DecisionTreeClassifier(random_state=42)\n",
        "dt.fit(X_train, y_train)"
      ],
      "metadata": {
        "colab": {
          "base_uri": "https://localhost:8080/"
        },
        "id": "8Q_bKNr8Xue6",
        "outputId": "af7ca14b-c284-404e-e8bb-993440f0d0a7"
      },
      "execution_count": 127,
      "outputs": [
        {
          "output_type": "execute_result",
          "data": {
            "text/plain": [
              "DecisionTreeClassifier(random_state=42)"
            ]
          },
          "metadata": {},
          "execution_count": 127
        }
      ]
    },
    {
      "cell_type": "code",
      "source": [
        "# Make predictions on the test data\n",
        "y_pred = dt.predict(X_test)\n",
        "\n",
        "# Calculate the accuracy score\n",
        "accuracy = accuracy_score(y_test, y_pred)\n",
        "print(f\"Accuracy: {accuracy}\")\n"
      ],
      "metadata": {
        "colab": {
          "base_uri": "https://localhost:8080/"
        },
        "id": "OlBbcVTwXu2w",
        "outputId": "9b163682-5d66-4ed3-ca1e-3092e2205e32"
      },
      "execution_count": 128,
      "outputs": [
        {
          "output_type": "stream",
          "name": "stdout",
          "text": [
            "Accuracy: 0.75\n"
          ]
        }
      ]
    },
    {
      "cell_type": "markdown",
      "source": [
        "# Neural Network"
      ],
      "metadata": {
        "id": "yVloVEdwbgAb"
      }
    },
    {
      "cell_type": "code",
      "source": [
        "import pandas as pd\n",
        "import tensorflow as tf\n",
        "from sklearn.metrics import accuracy_score\n",
        "from sklearn.model_selection import train_test_split"
      ],
      "metadata": {
        "id": "i48My9blb0cg"
      },
      "execution_count": 159,
      "outputs": []
    },
    {
      "cell_type": "code",
      "source": [
        "# load the Contact Lens dataset\n",
        "url = 'http://archive.ics.uci.edu/ml/machine-learning-databases/lenses/lenses.data'\n",
        "df = pd.read_csv(url, sep='\\s+', header=None, names=['age', 'prescription', 'astigmatic', 'tear_rate', 'class'])"
      ],
      "metadata": {
        "id": "gzrRktnhcC47"
      },
      "execution_count": 160,
      "outputs": []
    },
    {
      "cell_type": "code",
      "source": [
        "\n",
        "X = df.drop('class', axis=1)\n",
        "y = pd.get_dummies(df['class']) # Convert the categorical target variable into one-hot encoded vectors"
      ],
      "metadata": {
        "id": "ad6kisWXctcK"
      },
      "execution_count": 161,
      "outputs": []
    },
    {
      "cell_type": "code",
      "source": [
        "X_train, X_test, y_train, y_test = train_test_split(X, y, test_size=0.2, random_state=42)"
      ],
      "metadata": {
        "id": "-BZacMPXeSOt"
      },
      "execution_count": 162,
      "outputs": []
    },
    {
      "cell_type": "code",
      "source": [
        "model = tf.keras.models.Sequential([\n",
        "tf.keras.layers.Dense(16, input_dim=4, activation='relu'),\n",
        "tf.keras.layers.Dense(3, activation='softmax')\n",
        "])"
      ],
      "metadata": {
        "id": "yiOAbmALeI1u"
      },
      "execution_count": 163,
      "outputs": []
    },
    {
      "cell_type": "code",
      "source": [
        "model.compile(loss='categorical_crossentropy', optimizer='adam', metrics=['accuracy'])"
      ],
      "metadata": {
        "id": "bJtdtg1qeKfs"
      },
      "execution_count": 164,
      "outputs": []
    },
    {
      "cell_type": "code",
      "source": [
        "history=model.fit(X_train, y_train, epochs=100, batch_size=32,validation_split=0.2)"
      ],
      "metadata": {
        "colab": {
          "base_uri": "https://localhost:8080/"
        },
        "id": "D3dKy4TLeLd8",
        "outputId": "a2293409-6e9a-4d45-8761-fe5ab0e16b12"
      },
      "execution_count": 168,
      "outputs": [
        {
          "output_type": "stream",
          "name": "stdout",
          "text": [
            "Epoch 1/100\n",
            "1/1 [==============================] - 0s 85ms/step - loss: 0.4974 - accuracy: 0.8000 - val_loss: 0.6721 - val_accuracy: 0.7500\n",
            "Epoch 2/100\n",
            "1/1 [==============================] - 0s 42ms/step - loss: 0.4958 - accuracy: 0.8000 - val_loss: 0.6706 - val_accuracy: 0.7500\n",
            "Epoch 3/100\n",
            "1/1 [==============================] - 0s 39ms/step - loss: 0.4941 - accuracy: 0.8000 - val_loss: 0.6689 - val_accuracy: 0.7500\n",
            "Epoch 4/100\n",
            "1/1 [==============================] - 0s 39ms/step - loss: 0.4924 - accuracy: 0.8000 - val_loss: 0.6670 - val_accuracy: 0.7500\n",
            "Epoch 5/100\n",
            "1/1 [==============================] - 0s 49ms/step - loss: 0.4907 - accuracy: 0.8000 - val_loss: 0.6651 - val_accuracy: 0.7500\n",
            "Epoch 6/100\n",
            "1/1 [==============================] - 0s 40ms/step - loss: 0.4889 - accuracy: 0.8000 - val_loss: 0.6631 - val_accuracy: 0.7500\n",
            "Epoch 7/100\n",
            "1/1 [==============================] - 0s 43ms/step - loss: 0.4872 - accuracy: 0.8667 - val_loss: 0.6611 - val_accuracy: 0.7500\n",
            "Epoch 8/100\n",
            "1/1 [==============================] - 0s 41ms/step - loss: 0.4855 - accuracy: 0.8667 - val_loss: 0.6591 - val_accuracy: 0.7500\n",
            "Epoch 9/100\n",
            "1/1 [==============================] - 0s 44ms/step - loss: 0.4839 - accuracy: 0.8667 - val_loss: 0.6572 - val_accuracy: 0.7500\n",
            "Epoch 10/100\n",
            "1/1 [==============================] - 0s 46ms/step - loss: 0.4822 - accuracy: 0.8667 - val_loss: 0.6554 - val_accuracy: 0.7500\n",
            "Epoch 11/100\n",
            "1/1 [==============================] - 0s 60ms/step - loss: 0.4805 - accuracy: 0.8667 - val_loss: 0.6537 - val_accuracy: 0.7500\n",
            "Epoch 12/100\n",
            "1/1 [==============================] - 0s 52ms/step - loss: 0.4789 - accuracy: 0.8667 - val_loss: 0.6520 - val_accuracy: 0.7500\n",
            "Epoch 13/100\n",
            "1/1 [==============================] - 0s 51ms/step - loss: 0.4772 - accuracy: 0.8667 - val_loss: 0.6504 - val_accuracy: 0.7500\n",
            "Epoch 14/100\n",
            "1/1 [==============================] - 0s 60ms/step - loss: 0.4756 - accuracy: 0.8667 - val_loss: 0.6489 - val_accuracy: 0.7500\n",
            "Epoch 15/100\n",
            "1/1 [==============================] - 0s 41ms/step - loss: 0.4739 - accuracy: 0.8667 - val_loss: 0.6476 - val_accuracy: 0.7500\n",
            "Epoch 16/100\n",
            "1/1 [==============================] - 0s 46ms/step - loss: 0.4723 - accuracy: 0.8667 - val_loss: 0.6464 - val_accuracy: 0.7500\n",
            "Epoch 17/100\n",
            "1/1 [==============================] - 0s 63ms/step - loss: 0.4707 - accuracy: 0.9333 - val_loss: 0.6454 - val_accuracy: 0.7500\n",
            "Epoch 18/100\n",
            "1/1 [==============================] - 0s 45ms/step - loss: 0.4691 - accuracy: 0.9333 - val_loss: 0.6445 - val_accuracy: 0.7500\n",
            "Epoch 19/100\n",
            "1/1 [==============================] - 0s 47ms/step - loss: 0.4675 - accuracy: 0.9333 - val_loss: 0.6436 - val_accuracy: 0.7500\n",
            "Epoch 20/100\n",
            "1/1 [==============================] - 0s 66ms/step - loss: 0.4658 - accuracy: 0.9333 - val_loss: 0.6428 - val_accuracy: 0.7500\n",
            "Epoch 21/100\n",
            "1/1 [==============================] - 0s 42ms/step - loss: 0.4642 - accuracy: 0.9333 - val_loss: 0.6419 - val_accuracy: 0.7500\n",
            "Epoch 22/100\n",
            "1/1 [==============================] - 0s 42ms/step - loss: 0.4626 - accuracy: 0.9333 - val_loss: 0.6412 - val_accuracy: 0.7500\n",
            "Epoch 23/100\n",
            "1/1 [==============================] - 0s 44ms/step - loss: 0.4611 - accuracy: 0.9333 - val_loss: 0.6406 - val_accuracy: 0.7500\n",
            "Epoch 24/100\n",
            "1/1 [==============================] - 0s 44ms/step - loss: 0.4595 - accuracy: 0.9333 - val_loss: 0.6401 - val_accuracy: 0.7500\n",
            "Epoch 25/100\n",
            "1/1 [==============================] - 0s 61ms/step - loss: 0.4579 - accuracy: 0.9333 - val_loss: 0.6397 - val_accuracy: 0.7500\n",
            "Epoch 26/100\n",
            "1/1 [==============================] - 0s 44ms/step - loss: 0.4563 - accuracy: 0.9333 - val_loss: 0.6395 - val_accuracy: 0.7500\n",
            "Epoch 27/100\n",
            "1/1 [==============================] - 0s 43ms/step - loss: 0.4548 - accuracy: 0.9333 - val_loss: 0.6391 - val_accuracy: 0.7500\n",
            "Epoch 28/100\n",
            "1/1 [==============================] - 0s 41ms/step - loss: 0.4532 - accuracy: 0.9333 - val_loss: 0.6388 - val_accuracy: 0.7500\n",
            "Epoch 29/100\n",
            "1/1 [==============================] - 0s 43ms/step - loss: 0.4517 - accuracy: 0.9333 - val_loss: 0.6386 - val_accuracy: 0.7500\n",
            "Epoch 30/100\n",
            "1/1 [==============================] - 0s 40ms/step - loss: 0.4502 - accuracy: 0.9333 - val_loss: 0.6384 - val_accuracy: 0.7500\n",
            "Epoch 31/100\n",
            "1/1 [==============================] - 0s 76ms/step - loss: 0.4486 - accuracy: 0.9333 - val_loss: 0.6381 - val_accuracy: 0.7500\n",
            "Epoch 32/100\n",
            "1/1 [==============================] - 0s 57ms/step - loss: 0.4471 - accuracy: 0.9333 - val_loss: 0.6378 - val_accuracy: 0.7500\n",
            "Epoch 33/100\n",
            "1/1 [==============================] - 0s 42ms/step - loss: 0.4456 - accuracy: 0.9333 - val_loss: 0.6376 - val_accuracy: 0.7500\n",
            "Epoch 34/100\n",
            "1/1 [==============================] - 0s 41ms/step - loss: 0.4441 - accuracy: 0.9333 - val_loss: 0.6375 - val_accuracy: 0.7500\n",
            "Epoch 35/100\n",
            "1/1 [==============================] - 0s 40ms/step - loss: 0.4426 - accuracy: 0.9333 - val_loss: 0.6375 - val_accuracy: 0.7500\n",
            "Epoch 36/100\n",
            "1/1 [==============================] - 0s 41ms/step - loss: 0.4411 - accuracy: 0.9333 - val_loss: 0.6375 - val_accuracy: 0.7500\n",
            "Epoch 37/100\n",
            "1/1 [==============================] - 0s 44ms/step - loss: 0.4396 - accuracy: 0.9333 - val_loss: 0.6373 - val_accuracy: 0.7500\n",
            "Epoch 38/100\n",
            "1/1 [==============================] - 0s 46ms/step - loss: 0.4381 - accuracy: 0.9333 - val_loss: 0.6370 - val_accuracy: 0.7500\n",
            "Epoch 39/100\n",
            "1/1 [==============================] - 0s 45ms/step - loss: 0.4367 - accuracy: 0.9333 - val_loss: 0.6369 - val_accuracy: 0.7500\n",
            "Epoch 40/100\n",
            "1/1 [==============================] - 0s 44ms/step - loss: 0.4352 - accuracy: 0.9333 - val_loss: 0.6368 - val_accuracy: 0.7500\n",
            "Epoch 41/100\n",
            "1/1 [==============================] - 0s 40ms/step - loss: 0.4338 - accuracy: 0.9333 - val_loss: 0.6368 - val_accuracy: 0.7500\n",
            "Epoch 42/100\n",
            "1/1 [==============================] - 0s 52ms/step - loss: 0.4323 - accuracy: 0.9333 - val_loss: 0.6369 - val_accuracy: 0.7500\n",
            "Epoch 43/100\n",
            "1/1 [==============================] - 0s 40ms/step - loss: 0.4309 - accuracy: 0.9333 - val_loss: 0.6371 - val_accuracy: 0.7500\n",
            "Epoch 44/100\n",
            "1/1 [==============================] - 0s 52ms/step - loss: 0.4294 - accuracy: 0.9333 - val_loss: 0.6373 - val_accuracy: 0.7500\n",
            "Epoch 45/100\n",
            "1/1 [==============================] - 0s 40ms/step - loss: 0.4280 - accuracy: 0.9333 - val_loss: 0.6376 - val_accuracy: 0.7500\n",
            "Epoch 46/100\n",
            "1/1 [==============================] - 0s 42ms/step - loss: 0.4266 - accuracy: 0.9333 - val_loss: 0.6379 - val_accuracy: 0.7500\n",
            "Epoch 47/100\n",
            "1/1 [==============================] - 0s 41ms/step - loss: 0.4251 - accuracy: 0.9333 - val_loss: 0.6382 - val_accuracy: 0.7500\n",
            "Epoch 48/100\n",
            "1/1 [==============================] - 0s 42ms/step - loss: 0.4238 - accuracy: 0.9333 - val_loss: 0.6384 - val_accuracy: 0.7500\n",
            "Epoch 49/100\n",
            "1/1 [==============================] - 0s 46ms/step - loss: 0.4224 - accuracy: 0.9333 - val_loss: 0.6386 - val_accuracy: 0.7500\n",
            "Epoch 50/100\n",
            "1/1 [==============================] - 0s 40ms/step - loss: 0.4210 - accuracy: 0.9333 - val_loss: 0.6388 - val_accuracy: 0.7500\n",
            "Epoch 51/100\n",
            "1/1 [==============================] - 0s 43ms/step - loss: 0.4197 - accuracy: 0.9333 - val_loss: 0.6392 - val_accuracy: 0.7500\n",
            "Epoch 52/100\n",
            "1/1 [==============================] - 0s 53ms/step - loss: 0.4183 - accuracy: 0.9333 - val_loss: 0.6396 - val_accuracy: 0.7500\n",
            "Epoch 53/100\n",
            "1/1 [==============================] - 0s 41ms/step - loss: 0.4170 - accuracy: 0.9333 - val_loss: 0.6399 - val_accuracy: 0.7500\n",
            "Epoch 54/100\n",
            "1/1 [==============================] - 0s 42ms/step - loss: 0.4157 - accuracy: 0.9333 - val_loss: 0.6403 - val_accuracy: 0.7500\n",
            "Epoch 55/100\n",
            "1/1 [==============================] - 0s 48ms/step - loss: 0.4144 - accuracy: 0.9333 - val_loss: 0.6406 - val_accuracy: 0.7500\n",
            "Epoch 56/100\n",
            "1/1 [==============================] - 0s 40ms/step - loss: 0.4131 - accuracy: 0.9333 - val_loss: 0.6409 - val_accuracy: 0.7500\n",
            "Epoch 57/100\n",
            "1/1 [==============================] - 0s 42ms/step - loss: 0.4118 - accuracy: 0.9333 - val_loss: 0.6413 - val_accuracy: 0.7500\n",
            "Epoch 58/100\n",
            "1/1 [==============================] - 0s 42ms/step - loss: 0.4105 - accuracy: 0.9333 - val_loss: 0.6416 - val_accuracy: 0.7500\n",
            "Epoch 59/100\n",
            "1/1 [==============================] - 0s 49ms/step - loss: 0.4092 - accuracy: 0.9333 - val_loss: 0.6420 - val_accuracy: 0.7500\n",
            "Epoch 60/100\n",
            "1/1 [==============================] - 0s 42ms/step - loss: 0.4080 - accuracy: 0.9333 - val_loss: 0.6423 - val_accuracy: 0.7500\n",
            "Epoch 61/100\n",
            "1/1 [==============================] - 0s 42ms/step - loss: 0.4067 - accuracy: 0.9333 - val_loss: 0.6426 - val_accuracy: 0.7500\n",
            "Epoch 62/100\n",
            "1/1 [==============================] - 0s 45ms/step - loss: 0.4054 - accuracy: 0.9333 - val_loss: 0.6428 - val_accuracy: 0.7500\n",
            "Epoch 63/100\n",
            "1/1 [==============================] - 0s 42ms/step - loss: 0.4042 - accuracy: 0.9333 - val_loss: 0.6431 - val_accuracy: 0.7500\n",
            "Epoch 64/100\n",
            "1/1 [==============================] - 0s 39ms/step - loss: 0.4029 - accuracy: 0.9333 - val_loss: 0.6434 - val_accuracy: 0.7500\n",
            "Epoch 65/100\n",
            "1/1 [==============================] - 0s 43ms/step - loss: 0.4017 - accuracy: 0.9333 - val_loss: 0.6437 - val_accuracy: 0.7500\n",
            "Epoch 66/100\n",
            "1/1 [==============================] - 0s 41ms/step - loss: 0.4005 - accuracy: 0.9333 - val_loss: 0.6440 - val_accuracy: 0.7500\n",
            "Epoch 67/100\n",
            "1/1 [==============================] - 0s 41ms/step - loss: 0.3992 - accuracy: 0.9333 - val_loss: 0.6443 - val_accuracy: 0.7500\n",
            "Epoch 68/100\n",
            "1/1 [==============================] - 0s 39ms/step - loss: 0.3980 - accuracy: 0.9333 - val_loss: 0.6447 - val_accuracy: 0.7500\n",
            "Epoch 69/100\n",
            "1/1 [==============================] - 0s 39ms/step - loss: 0.3968 - accuracy: 0.9333 - val_loss: 0.6449 - val_accuracy: 0.7500\n",
            "Epoch 70/100\n",
            "1/1 [==============================] - 0s 44ms/step - loss: 0.3956 - accuracy: 0.9333 - val_loss: 0.6451 - val_accuracy: 0.7500\n",
            "Epoch 71/100\n",
            "1/1 [==============================] - 0s 60ms/step - loss: 0.3944 - accuracy: 0.9333 - val_loss: 0.6451 - val_accuracy: 0.7500\n",
            "Epoch 72/100\n",
            "1/1 [==============================] - 0s 47ms/step - loss: 0.3932 - accuracy: 0.9333 - val_loss: 0.6450 - val_accuracy: 0.7500\n",
            "Epoch 73/100\n",
            "1/1 [==============================] - 0s 69ms/step - loss: 0.3920 - accuracy: 0.9333 - val_loss: 0.6450 - val_accuracy: 0.7500\n",
            "Epoch 74/100\n",
            "1/1 [==============================] - 0s 41ms/step - loss: 0.3909 - accuracy: 0.9333 - val_loss: 0.6449 - val_accuracy: 0.7500\n",
            "Epoch 75/100\n",
            "1/1 [==============================] - 0s 46ms/step - loss: 0.3897 - accuracy: 0.9333 - val_loss: 0.6449 - val_accuracy: 0.7500\n",
            "Epoch 76/100\n",
            "1/1 [==============================] - 0s 40ms/step - loss: 0.3885 - accuracy: 0.9333 - val_loss: 0.6450 - val_accuracy: 0.7500\n",
            "Epoch 77/100\n",
            "1/1 [==============================] - 0s 39ms/step - loss: 0.3874 - accuracy: 0.9333 - val_loss: 0.6452 - val_accuracy: 0.7500\n",
            "Epoch 78/100\n",
            "1/1 [==============================] - 0s 46ms/step - loss: 0.3862 - accuracy: 0.9333 - val_loss: 0.6455 - val_accuracy: 0.7500\n",
            "Epoch 79/100\n",
            "1/1 [==============================] - 0s 42ms/step - loss: 0.3851 - accuracy: 0.9333 - val_loss: 0.6457 - val_accuracy: 0.7500\n",
            "Epoch 80/100\n",
            "1/1 [==============================] - 0s 40ms/step - loss: 0.3839 - accuracy: 0.9333 - val_loss: 0.6463 - val_accuracy: 0.7500\n",
            "Epoch 81/100\n",
            "1/1 [==============================] - 0s 43ms/step - loss: 0.3828 - accuracy: 0.9333 - val_loss: 0.6468 - val_accuracy: 0.7500\n",
            "Epoch 82/100\n",
            "1/1 [==============================] - 0s 40ms/step - loss: 0.3816 - accuracy: 0.9333 - val_loss: 0.6475 - val_accuracy: 0.7500\n",
            "Epoch 83/100\n",
            "1/1 [==============================] - 0s 41ms/step - loss: 0.3805 - accuracy: 0.9333 - val_loss: 0.6482 - val_accuracy: 0.7500\n",
            "Epoch 84/100\n",
            "1/1 [==============================] - 0s 45ms/step - loss: 0.3794 - accuracy: 0.9333 - val_loss: 0.6488 - val_accuracy: 0.7500\n",
            "Epoch 85/100\n",
            "1/1 [==============================] - 0s 42ms/step - loss: 0.3783 - accuracy: 0.9333 - val_loss: 0.6493 - val_accuracy: 0.7500\n",
            "Epoch 86/100\n",
            "1/1 [==============================] - 0s 46ms/step - loss: 0.3772 - accuracy: 0.9333 - val_loss: 0.6497 - val_accuracy: 0.7500\n",
            "Epoch 87/100\n",
            "1/1 [==============================] - 0s 45ms/step - loss: 0.3761 - accuracy: 0.9333 - val_loss: 0.6501 - val_accuracy: 0.7500\n",
            "Epoch 88/100\n",
            "1/1 [==============================] - 0s 41ms/step - loss: 0.3749 - accuracy: 0.9333 - val_loss: 0.6504 - val_accuracy: 0.7500\n",
            "Epoch 89/100\n",
            "1/1 [==============================] - 0s 43ms/step - loss: 0.3739 - accuracy: 0.9333 - val_loss: 0.6510 - val_accuracy: 0.7500\n",
            "Epoch 90/100\n",
            "1/1 [==============================] - 0s 42ms/step - loss: 0.3728 - accuracy: 0.9333 - val_loss: 0.6516 - val_accuracy: 0.7500\n",
            "Epoch 91/100\n",
            "1/1 [==============================] - 0s 44ms/step - loss: 0.3717 - accuracy: 0.9333 - val_loss: 0.6523 - val_accuracy: 0.7500\n",
            "Epoch 92/100\n",
            "1/1 [==============================] - 0s 46ms/step - loss: 0.3706 - accuracy: 0.9333 - val_loss: 0.6530 - val_accuracy: 0.7500\n",
            "Epoch 93/100\n",
            "1/1 [==============================] - 0s 52ms/step - loss: 0.3695 - accuracy: 0.9333 - val_loss: 0.6538 - val_accuracy: 0.7500\n",
            "Epoch 94/100\n",
            "1/1 [==============================] - 0s 58ms/step - loss: 0.3685 - accuracy: 0.9333 - val_loss: 0.6546 - val_accuracy: 0.7500\n",
            "Epoch 95/100\n",
            "1/1 [==============================] - 0s 41ms/step - loss: 0.3674 - accuracy: 0.9333 - val_loss: 0.6552 - val_accuracy: 0.7500\n",
            "Epoch 96/100\n",
            "1/1 [==============================] - 0s 42ms/step - loss: 0.3663 - accuracy: 0.9333 - val_loss: 0.6557 - val_accuracy: 0.7500\n",
            "Epoch 97/100\n",
            "1/1 [==============================] - 0s 43ms/step - loss: 0.3653 - accuracy: 0.9333 - val_loss: 0.6562 - val_accuracy: 0.7500\n",
            "Epoch 98/100\n",
            "1/1 [==============================] - 0s 41ms/step - loss: 0.3642 - accuracy: 0.9333 - val_loss: 0.6567 - val_accuracy: 0.7500\n",
            "Epoch 99/100\n",
            "1/1 [==============================] - 0s 44ms/step - loss: 0.3632 - accuracy: 0.9333 - val_loss: 0.6572 - val_accuracy: 0.7500\n",
            "Epoch 100/100\n",
            "1/1 [==============================] - 0s 45ms/step - loss: 0.3622 - accuracy: 0.9333 - val_loss: 0.6579 - val_accuracy: 0.7500\n"
          ]
        }
      ]
    },
    {
      "cell_type": "code",
      "source": [
        "# save model\n",
        "model.save('path/to/model.h5')"
      ],
      "metadata": {
        "id": "4J1vip0ufLqt"
      },
      "execution_count": 169,
      "outputs": []
    },
    {
      "cell_type": "code",
      "source": [
        "import matplotlib.pyplot as plt\n",
        "plt.plot(history.history['accuracy'],label='accuracy')\n",
        "plt.plot(history.history['val_accuracy'],label='validation_accuracy')\n",
        "plt.legend()\n",
        "plt.show()"
      ],
      "metadata": {
        "colab": {
          "base_uri": "https://localhost:8080/",
          "height": 265
        },
        "id": "Om41EpUinpfC",
        "outputId": "0d5a992b-aa3f-4d75-bd05-18ea5725d2d0"
      },
      "execution_count": 191,
      "outputs": [
        {
          "output_type": "display_data",
          "data": {
            "text/plain": [
              "<Figure size 432x288 with 1 Axes>"
            ],
            "image/png": "[encoded data removed]"
          },
          "metadata": {
            "needs_background": "light"
          }
        }
      ]
    },
    {
      "cell_type": "markdown",
      "source": [
        "# Using MultiLayer Perceptron"
      ],
      "metadata": {
        "id": "s7-nRNJVmsTB"
      }
    },
    {
      "cell_type": "code",
      "source": [
        "import pandas as pd\n",
        "from sklearn.neural_network import MLPClassifier\n",
        "from sklearn.metrics import accuracy_score\n",
        "from sklearn.model_selection import train_test_split\n",
        "\n",
        "# Load the data\n",
        "url = 'http://archive.ics.uci.edu/ml/machine-learning-databases/lenses/lenses.data'\n",
        "df = pd.read_csv(url, sep='\\s+', header=None, names=['age', 'prescription', 'astigmatic', 'tear_rate', 'class'])"
      ],
      "metadata": {
        "id": "Jwps0S6_lUgo"
      },
      "execution_count": 185,
      "outputs": []
    },
    {
      "cell_type": "code",
      "source": [
        "# Split the data into features and target variable\n",
        "X = df.drop('class', axis=1)\n",
        "y = df['class']"
      ],
      "metadata": {
        "id": "DPOgEO9OlXLi"
      },
      "execution_count": 186,
      "outputs": []
    },
    {
      "cell_type": "code",
      "source": [
        "# Split the data into training and testing sets\n",
        "X_train, X_test, y_train, y_test = train_test_split(X, y, test_size=0.3, random_state=42)"
      ],
      "metadata": {
        "id": "B4BDkRoblnz8"
      },
      "execution_count": 187,
      "outputs": []
    },
    {
      "cell_type": "code",
      "source": [
        "# Build the neural network model\n",
        "mlp = MLPClassifier(hidden_layer_sizes=(16, 8), activation='relu', solver='adam', max_iter=1000)\n",
        "mlp.fit(X_train, y_train)\n"
      ],
      "metadata": {
        "colab": {
          "base_uri": "https://localhost:8080/"
        },
        "id": "pYDRiXrslpYK",
        "outputId": "bd3dc5c9-d9be-4d12-b241-4149b5c263c0"
      },
      "execution_count": 188,
      "outputs": [
        {
          "output_type": "stream",
          "name": "stderr",
          "text": [
            "/usr/local/lib/python3.8/dist-packages/sklearn/neural_network/_multilayer_perceptron.py:692: ConvergenceWarning: Stochastic Optimizer: Maximum iterations (1000) reached and the optimization hasn't converged yet.\n",
            "  warnings.warn(\n"
          ]
        },
        {
          "output_type": "execute_result",
          "data": {
            "text/plain": [
              "MLPClassifier(hidden_layer_sizes=(16, 8), max_iter=1000)"
            ]
          },
          "metadata": {},
          "execution_count": 188
        }
      ]
    },
    {
      "cell_type": "code",
      "source": [
        "# Make predictions on the test set\n",
        "y_pred = mlp.predict(X_test)"
      ],
      "metadata": {
        "id": "6SX4y3VTlqsv"
      },
      "execution_count": 189,
      "outputs": []
    },
    {
      "cell_type": "code",
      "source": [
        "# Calculate the accuracy score\n",
        "acc_score = accuracy_score(y_test, y_pred)\n",
        "print(f\"Accuracy score: {acc_score:.2f}\")"
      ],
      "metadata": {
        "colab": {
          "base_uri": "https://localhost:8080/"
        },
        "id": "kdrz4nPeniwX",
        "outputId": "56f3ad69-5005-4984-998f-1c313ceab859"
      },
      "execution_count": 190,
      "outputs": [
        {
          "output_type": "stream",
          "name": "stdout",
          "text": [
            "Accuracy score: 0.75\n"
          ]
        }
      ]
    }
  ]
}