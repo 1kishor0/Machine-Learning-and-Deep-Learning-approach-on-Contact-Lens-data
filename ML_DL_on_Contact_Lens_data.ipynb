{
  "cells": [
    {
      "cell_type": "markdown",
      "metadata": {
        "id": "view-in-github",
        "colab_type": "text"
      },
      "source": [
        "<a href=\"https://colab.research.google.com/github/1kishor0/Machine-Learning-and-Deep-Learning-approach-on-Contact-Lens-data/blob/main/ML_DL_on_Contact_Lens_data.ipynb\" target=\"_parent\"><img src=\"https://colab.research.google.com/assets/colab-badge.svg\" alt=\"Open In Colab\"/></a>"
      ]
    },
    {
      "cell_type": "markdown",
      "metadata": {
        "id": "evjsMoLFXfSF"
      },
      "source": [
        "# KNN Classifier"
      ]
    },
    {
      "cell_type": "code",
      "execution_count": 329,
      "metadata": {
        "id": "YXbBsEYtqQiQ"
      },
      "outputs": [],
      "source": [
        "import pandas as pd\n",
        "from sklearn.neighbors import KNeighborsClassifier\n",
        "from sklearn.model_selection import train_test_split"
      ]
    },
    {
      "cell_type": "code",
      "execution_count": 330,
      "metadata": {
        "id": "1XyNls7qRvlG"
      },
      "outputs": [],
      "source": [
        "# load the Contact Lens dataset\n",
        "url = 'http://archive.ics.uci.edu/ml/machine-learning-databases/lenses/lenses.data'\n",
        "lenses = pd.read_csv(url, header=None, delim_whitespace=True, names=['age', 'prescript', 'astigmatic', 'tear_rate', 'class'])"
      ]
    },
    {
      "cell_type": "code",
      "execution_count": 331,
      "metadata": {
        "id": "pH8cUkFMStP0"
      },
      "outputs": [],
      "source": [
        "# drop the missing values\n",
        "#lenses = lenses.dropna()"
      ]
    },
    {
      "cell_type": "code",
      "execution_count": 332,
      "metadata": {
        "colab": {
          "base_uri": "https://localhost:8080/",
          "height": 802
        },
        "id": "J8FRBVjFe2Gf",
        "outputId": "215b6e9a-a5c9-4a18-e49d-63ce9e776ee0"
      },
      "outputs": [
        {
          "output_type": "execute_result",
          "data": {
            "text/plain": [
              "    age  prescript  astigmatic  tear_rate  class\n",
              "1     1          1           1          1      3\n",
              "2     1          1           1          2      2\n",
              "3     1          1           2          1      3\n",
              "4     1          1           2          2      1\n",
              "5     1          2           1          1      3\n",
              "6     1          2           1          2      2\n",
              "7     1          2           2          1      3\n",
              "8     1          2           2          2      1\n",
              "9     2          1           1          1      3\n",
              "10    2          1           1          2      2\n",
              "11    2          1           2          1      3\n",
              "12    2          1           2          2      1\n",
              "13    2          2           1          1      3\n",
              "14    2          2           1          2      2\n",
              "15    2          2           2          1      3\n",
              "16    2          2           2          2      3\n",
              "17    3          1           1          1      3\n",
              "18    3          1           1          2      3\n",
              "19    3          1           2          1      3\n",
              "20    3          1           2          2      1\n",
              "21    3          2           1          1      3\n",
              "22    3          2           1          2      2\n",
              "23    3          2           2          1      3\n",
              "24    3          2           2          2      3"
            ],
            "text/html": [
              "\n",
              "  <div id=\"df-e0f9231f-4217-4d55-8be8-04c94e91bdf8\">\n",
              "    <div class=\"colab-df-container\">\n",
              "      <div>\n",
              "<style scoped>\n",
              "    .dataframe tbody tr th:only-of-type {\n",
              "        vertical-align: middle;\n",
              "    }\n",
              "\n",
              "    .dataframe tbody tr th {\n",
              "        vertical-align: top;\n",
              "    }\n",
              "\n",
              "    .dataframe thead th {\n",
              "        text-align: right;\n",
              "    }\n",
              "</style>\n",
              "<table border=\"1\" class=\"dataframe\">\n",
              "  <thead>\n",
              "    <tr style=\"text-align: right;\">\n",
              "      <th></th>\n",
              "      <th>age</th>\n",
              "      <th>prescript</th>\n",
              "      <th>astigmatic</th>\n",
              "      <th>tear_rate</th>\n",
              "      <th>class</th>\n",
              "    </tr>\n",
              "  </thead>\n",
              "  <tbody>\n",
              "    <tr>\n",
              "      <th>1</th>\n",
              "      <td>1</td>\n",
              "      <td>1</td>\n",
              "      <td>1</td>\n",
              "      <td>1</td>\n",
              "      <td>3</td>\n",
              "    </tr>\n",
              "    <tr>\n",
              "      <th>2</th>\n",
              "      <td>1</td>\n",
              "      <td>1</td>\n",
              "      <td>1</td>\n",
              "      <td>2</td>\n",
              "      <td>2</td>\n",
              "    </tr>\n",
              "    <tr>\n",
              "      <th>3</th>\n",
              "      <td>1</td>\n",
              "      <td>1</td>\n",
              "      <td>2</td>\n",
              "      <td>1</td>\n",
              "      <td>3</td>\n",
              "    </tr>\n",
              "    <tr>\n",
              "      <th>4</th>\n",
              "      <td>1</td>\n",
              "      <td>1</td>\n",
              "      <td>2</td>\n",
              "      <td>2</td>\n",
              "      <td>1</td>\n",
              "    </tr>\n",
              "    <tr>\n",
              "      <th>5</th>\n",
              "      <td>1</td>\n",
              "      <td>2</td>\n",
              "      <td>1</td>\n",
              "      <td>1</td>\n",
              "      <td>3</td>\n",
              "    </tr>\n",
              "    <tr>\n",
              "      <th>6</th>\n",
              "      <td>1</td>\n",
              "      <td>2</td>\n",
              "      <td>1</td>\n",
              "      <td>2</td>\n",
              "      <td>2</td>\n",
              "    </tr>\n",
              "    <tr>\n",
              "      <th>7</th>\n",
              "      <td>1</td>\n",
              "      <td>2</td>\n",
              "      <td>2</td>\n",
              "      <td>1</td>\n",
              "      <td>3</td>\n",
              "    </tr>\n",
              "    <tr>\n",
              "      <th>8</th>\n",
              "      <td>1</td>\n",
              "      <td>2</td>\n",
              "      <td>2</td>\n",
              "      <td>2</td>\n",
              "      <td>1</td>\n",
              "    </tr>\n",
              "    <tr>\n",
              "      <th>9</th>\n",
              "      <td>2</td>\n",
              "      <td>1</td>\n",
              "      <td>1</td>\n",
              "      <td>1</td>\n",
              "      <td>3</td>\n",
              "    </tr>\n",
              "    <tr>\n",
              "      <th>10</th>\n",
              "      <td>2</td>\n",
              "      <td>1</td>\n",
              "      <td>1</td>\n",
              "      <td>2</td>\n",
              "      <td>2</td>\n",
              "    </tr>\n",
              "    <tr>\n",
              "      <th>11</th>\n",
              "      <td>2</td>\n",
              "      <td>1</td>\n",
              "      <td>2</td>\n",
              "      <td>1</td>\n",
              "      <td>3</td>\n",
              "    </tr>\n",
              "    <tr>\n",
              "      <th>12</th>\n",
              "      <td>2</td>\n",
              "      <td>1</td>\n",
              "      <td>2</td>\n",
              "      <td>2</td>\n",
              "      <td>1</td>\n",
              "    </tr>\n",
              "    <tr>\n",
              "      <th>13</th>\n",
              "      <td>2</td>\n",
              "      <td>2</td>\n",
              "      <td>1</td>\n",
              "      <td>1</td>\n",
              "      <td>3</td>\n",
              "    </tr>\n",
              "    <tr>\n",
              "      <th>14</th>\n",
              "      <td>2</td>\n",
              "      <td>2</td>\n",
              "      <td>1</td>\n",
              "      <td>2</td>\n",
              "      <td>2</td>\n",
              "    </tr>\n",
              "    <tr>\n",
              "      <th>15</th>\n",
              "      <td>2</td>\n",
              "      <td>2</td>\n",
              "      <td>2</td>\n",
              "      <td>1</td>\n",
              "      <td>3</td>\n",
              "    </tr>\n",
              "    <tr>\n",
              "      <th>16</th>\n",
              "      <td>2</td>\n",
              "      <td>2</td>\n",
              "      <td>2</td>\n",
              "      <td>2</td>\n",
              "      <td>3</td>\n",
              "    </tr>\n",
              "    <tr>\n",
              "      <th>17</th>\n",
              "      <td>3</td>\n",
              "      <td>1</td>\n",
              "      <td>1</td>\n",
              "      <td>1</td>\n",
              "      <td>3</td>\n",
              "    </tr>\n",
              "    <tr>\n",
              "      <th>18</th>\n",
              "      <td>3</td>\n",
              "      <td>1</td>\n",
              "      <td>1</td>\n",
              "      <td>2</td>\n",
              "      <td>3</td>\n",
              "    </tr>\n",
              "    <tr>\n",
              "      <th>19</th>\n",
              "      <td>3</td>\n",
              "      <td>1</td>\n",
              "      <td>2</td>\n",
              "      <td>1</td>\n",
              "      <td>3</td>\n",
              "    </tr>\n",
              "    <tr>\n",
              "      <th>20</th>\n",
              "      <td>3</td>\n",
              "      <td>1</td>\n",
              "      <td>2</td>\n",
              "      <td>2</td>\n",
              "      <td>1</td>\n",
              "    </tr>\n",
              "    <tr>\n",
              "      <th>21</th>\n",
              "      <td>3</td>\n",
              "      <td>2</td>\n",
              "      <td>1</td>\n",
              "      <td>1</td>\n",
              "      <td>3</td>\n",
              "    </tr>\n",
              "    <tr>\n",
              "      <th>22</th>\n",
              "      <td>3</td>\n",
              "      <td>2</td>\n",
              "      <td>1</td>\n",
              "      <td>2</td>\n",
              "      <td>2</td>\n",
              "    </tr>\n",
              "    <tr>\n",
              "      <th>23</th>\n",
              "      <td>3</td>\n",
              "      <td>2</td>\n",
              "      <td>2</td>\n",
              "      <td>1</td>\n",
              "      <td>3</td>\n",
              "    </tr>\n",
              "    <tr>\n",
              "      <th>24</th>\n",
              "      <td>3</td>\n",
              "      <td>2</td>\n",
              "      <td>2</td>\n",
              "      <td>2</td>\n",
              "      <td>3</td>\n",
              "    </tr>\n",
              "  </tbody>\n",
              "</table>\n",
              "</div>\n",
              "      <button class=\"colab-df-convert\" onclick=\"convertToInteractive('df-e0f9231f-4217-4d55-8be8-04c94e91bdf8')\"\n",
              "              title=\"Convert this dataframe to an interactive table.\"\n",
              "              style=\"display:none;\">\n",
              "        \n",
              "  <svg xmlns=\"http://www.w3.org/2000/svg\" height=\"24px\"viewBox=\"0 0 24 24\"\n",
              "       width=\"24px\">\n",
              "    <path d=\"M0 0h24v24H0V0z\" fill=\"none\"/>\n",
              "    <path d=\"M18.56 5.44l.94 2.06.94-2.06 2.06-.94-2.06-.94-.94-2.06-.94 2.06-2.06.94zm-11 1L8.5 8.5l.94-2.06 2.06-.94-2.06-.94L8.5 2.5l-.94 2.06-2.06.94zm10 10l.94 2.06.94-2.06 2.06-.94-2.06-.94-.94-2.06-.94 2.06-2.06.94z\"/><path d=\"M17.41 7.96l-1.37-1.37c-.4-.4-.92-.59-1.43-.59-.52 0-1.04.2-1.43.59L10.3 9.45l-7.72 7.72c-.78.78-.78 2.05 0 2.83L4 21.41c.39.39.9.59 1.41.59.51 0 1.02-.2 1.41-.59l7.78-7.78 2.81-2.81c.8-.78.8-2.07 0-2.86zM5.41 20L4 18.59l7.72-7.72 1.47 1.35L5.41 20z\"/>\n",
              "  </svg>\n",
              "      </button>\n",
              "      \n",
              "  <style>\n",
              "    .colab-df-container {\n",
              "      display:flex;\n",
              "      flex-wrap:wrap;\n",
              "      gap: 12px;\n",
              "    }\n",
              "\n",
              "    .colab-df-convert {\n",
              "      background-color: #E8F0FE;\n",
              "      border: none;\n",
              "      border-radius: 50%;\n",
              "      cursor: pointer;\n",
              "      display: none;\n",
              "      fill: #1967D2;\n",
              "      height: 32px;\n",
              "      padding: 0 0 0 0;\n",
              "      width: 32px;\n",
              "    }\n",
              "\n",
              "    .colab-df-convert:hover {\n",
              "      background-color: #E2EBFA;\n",
              "      box-shadow: 0px 1px 2px rgba(60, 64, 67, 0.3), 0px 1px 3px 1px rgba(60, 64, 67, 0.15);\n",
              "      fill: #174EA6;\n",
              "    }\n",
              "\n",
              "    [theme=dark] .colab-df-convert {\n",
              "      background-color: #3B4455;\n",
              "      fill: #D2E3FC;\n",
              "    }\n",
              "\n",
              "    [theme=dark] .colab-df-convert:hover {\n",
              "      background-color: #434B5C;\n",
              "      box-shadow: 0px 1px 3px 1px rgba(0, 0, 0, 0.15);\n",
              "      filter: drop-shadow(0px 1px 2px rgba(0, 0, 0, 0.3));\n",
              "      fill: #FFFFFF;\n",
              "    }\n",
              "  </style>\n",
              "\n",
              "      <script>\n",
              "        const buttonEl =\n",
              "          document.querySelector('#df-e0f9231f-4217-4d55-8be8-04c94e91bdf8 button.colab-df-convert');\n",
              "        buttonEl.style.display =\n",
              "          google.colab.kernel.accessAllowed ? 'block' : 'none';\n",
              "\n",
              "        async function convertToInteractive(key) {\n",
              "          const element = document.querySelector('#df-e0f9231f-4217-4d55-8be8-04c94e91bdf8');\n",
              "          const dataTable =\n",
              "            await google.colab.kernel.invokeFunction('convertToInteractive',\n",
              "                                                     [key], {});\n",
              "          if (!dataTable) return;\n",
              "\n",
              "          const docLinkHtml = 'Like what you see? Visit the ' +\n",
              "            '<a target=\"_blank\" href=https://colab.research.google.com/notebooks/data_table.ipynb>data table notebook</a>'\n",
              "            + ' to learn more about interactive tables.';\n",
              "          element.innerHTML = '';\n",
              "          dataTable['output_type'] = 'display_data';\n",
              "          await google.colab.output.renderOutput(dataTable, element);\n",
              "          const docLink = document.createElement('div');\n",
              "          docLink.innerHTML = docLinkHtml;\n",
              "          element.appendChild(docLink);\n",
              "        }\n",
              "      </script>\n",
              "    </div>\n",
              "  </div>\n",
              "  "
            ]
          },
          "metadata": {},
          "execution_count": 332
        }
      ],
      "source": [
        "lenses"
      ]
    },
    {
      "cell_type": "code",
      "execution_count": 333,
      "metadata": {
        "id": "nCbHN28QRxn0"
      },
      "outputs": [],
      "source": [
        "# separate features and target variable\n",
        "X = lenses.drop('class', axis=1)\n",
        "y = lenses['class']"
      ]
    },
    {
      "cell_type": "code",
      "execution_count": 334,
      "metadata": {
        "id": "GOwftJP4RzaV"
      },
      "outputs": [],
      "source": [
        "# split the data into training and testing sets\n",
        "X_train, X_test, y_train, y_test = train_test_split(X, y, test_size=0.2, random_state=1)"
      ]
    },
    {
      "cell_type": "code",
      "execution_count": 335,
      "metadata": {
        "id": "okqIUJ55Y09a"
      },
      "outputs": [],
      "source": [
        "from sklearn.metrics import accuracy_score\n",
        "\n",
        "# create empty list to store accuracy scores\n",
        "scores = []"
      ]
    },
    {
      "cell_type": "code",
      "execution_count": 336,
      "metadata": {
        "colab": {
          "base_uri": "https://localhost:8080/"
        },
        "id": "bCMwh3x3R3YJ",
        "outputId": "53314587-a64c-4013-d603-d21fe938c258"
      },
      "outputs": [
        {
          "output_type": "stream",
          "name": "stdout",
          "text": [
            "Accuracy score for k=1: 0.60\n",
            "Accuracy score for k=2: 0.60\n",
            "Accuracy score for k=3: 1.00\n",
            "Accuracy score for k=4: 1.00\n",
            "Accuracy score for k=5: 1.00\n",
            "Accuracy score for k=6: 0.80\n",
            "Accuracy score for k=7: 0.80\n",
            "Accuracy score for k=8: 0.60\n",
            "Accuracy score for k=9: 0.60\n",
            "Accuracy score for k=10: 0.60\n"
          ]
        }
      ],
      "source": [
        "# try different values of n_neighbors and calculate accuracy scores\n",
        "for k in range(1, 11):\n",
        "    knn = KNeighborsClassifier(n_neighbors=k)\n",
        "    knn.fit(X_train, y_train)\n",
        "    y_pred = knn.predict(X_test)\n",
        "    acc_score = accuracy_score(y_test, y_pred)\n",
        "    scores.append(acc_score)\n",
        "    print(f\"Accuracy score for k={k}: {acc_score:.2f}\")\n"
      ]
    },
    {
      "cell_type": "markdown",
      "metadata": {
        "id": "T6w68Rxcahy_"
      },
      "source": [
        "# Decision Tree"
      ]
    },
    {
      "cell_type": "code",
      "execution_count": 337,
      "metadata": {
        "id": "DQQxTjMBR51D"
      },
      "outputs": [],
      "source": [
        "# Split the data into features and target variable\n",
        "X = lenses.drop('class', axis=1)\n",
        "y = lenses['class']"
      ]
    },
    {
      "cell_type": "code",
      "execution_count": 338,
      "metadata": {
        "id": "iIB5bP91R7k4"
      },
      "outputs": [],
      "source": [
        "# Split the data into training and testing sets\n",
        "X_train, X_test, y_train, y_test = train_test_split(X, y, test_size=0.2, random_state=42)"
      ]
    },
    {
      "cell_type": "code",
      "execution_count": 339,
      "metadata": {
        "colab": {
          "base_uri": "https://localhost:8080/"
        },
        "id": "8Q_bKNr8Xue6",
        "outputId": "108c87b4-6c3c-44c3-b738-916699701459"
      },
      "outputs": [
        {
          "output_type": "execute_result",
          "data": {
            "text/plain": [
              "DecisionTreeClassifier(random_state=42)"
            ]
          },
          "metadata": {},
          "execution_count": 339
        }
      ],
      "source": [
        "# Train the decision tree model\n",
        "dt = DecisionTreeClassifier(random_state=42)\n",
        "dt.fit(X_train, y_train)"
      ]
    },
    {
      "cell_type": "code",
      "execution_count": 340,
      "metadata": {
        "colab": {
          "base_uri": "https://localhost:8080/"
        },
        "id": "OlBbcVTwXu2w",
        "outputId": "f4ed7a10-593f-4a56-f833-014717c04f75"
      },
      "outputs": [
        {
          "output_type": "stream",
          "name": "stdout",
          "text": [
            "Accuracy: 1.0\n"
          ]
        }
      ],
      "source": [
        "# Make predictions on the test data\n",
        "y_pred = dt.predict(X_test)\n",
        "\n",
        "# Calculate the accuracy score\n",
        "accuracy = accuracy_score(y_test, y_pred)\n",
        "print(f\"Accuracy: {accuracy}\")\n"
      ]
    },
    {
      "cell_type": "markdown",
      "metadata": {
        "id": "yVloVEdwbgAb"
      },
      "source": [
        "# Neural Network"
      ]
    },
    {
      "cell_type": "code",
      "execution_count": 405,
      "metadata": {
        "id": "i48My9blb0cg"
      },
      "outputs": [],
      "source": [
        "import pandas as pd\n",
        "import tensorflow as tf\n",
        "from sklearn.metrics import accuracy_score\n",
        "from sklearn.model_selection import train_test_split"
      ]
    },
    {
      "cell_type": "code",
      "execution_count": 406,
      "metadata": {
        "id": "gzrRktnhcC47"
      },
      "outputs": [],
      "source": [
        "# load the Contact Lens dataset\n",
        "url = 'http://archive.ics.uci.edu/ml/machine-learning-databases/lenses/lenses.data'\n",
        "df = pd.read_csv(url, sep='\\s+', header=None, names=['age', 'prescription', 'astigmatic', 'tear_rate', 'class'])"
      ]
    },
    {
      "cell_type": "code",
      "execution_count": 407,
      "metadata": {
        "id": "ad6kisWXctcK"
      },
      "outputs": [],
      "source": [
        "\n",
        "X = df.drop('class', axis=1)\n",
        "y = pd.get_dummies(df['class']) # Convert the categorical target variable into one-hot encoded vectors"
      ]
    },
    {
      "cell_type": "code",
      "execution_count": 408,
      "metadata": {
        "id": "-BZacMPXeSOt"
      },
      "outputs": [],
      "source": [
        "X_train, X_test, y_train, y_test = train_test_split(X, y, test_size=0.2, random_state=42)"
      ]
    },
    {
      "cell_type": "code",
      "execution_count": 409,
      "metadata": {
        "id": "yiOAbmALeI1u"
      },
      "outputs": [],
      "source": [
        "model = tf.keras.models.Sequential([\n",
        "tf.keras.layers.Dense(16, input_dim=4, activation='relu'),\n",
        "tf.keras.layers.Dense(3, activation='softmax')\n",
        "])"
      ]
    },
    {
      "cell_type": "code",
      "execution_count": 410,
      "metadata": {
        "id": "bJtdtg1qeKfs"
      },
      "outputs": [],
      "source": [
        "model.compile(loss='categorical_crossentropy', optimizer='adam', metrics=['accuracy'])"
      ]
    },
    {
      "cell_type": "code",
      "execution_count": 411,
      "metadata": {
        "id": "D3dKy4TLeLd8",
        "colab": {
          "base_uri": "https://localhost:8080/"
        },
        "outputId": "e239d7ba-4d04-484b-9119-fb0f9fad7900"
      },
      "outputs": [
        {
          "output_type": "stream",
          "name": "stdout",
          "text": [
            "Epoch 1/50\n",
            "1/1 [==============================] - 1s 762ms/step - loss: 1.1707 - accuracy: 0.1333 - val_loss: 1.2266 - val_accuracy: 0.2500\n",
            "Epoch 2/50\n",
            "1/1 [==============================] - 0s 46ms/step - loss: 1.1604 - accuracy: 0.1333 - val_loss: 1.2173 - val_accuracy: 0.2500\n",
            "Epoch 3/50\n",
            "1/1 [==============================] - 0s 44ms/step - loss: 1.1501 - accuracy: 0.1333 - val_loss: 1.2084 - val_accuracy: 0.2500\n",
            "Epoch 4/50\n",
            "1/1 [==============================] - 0s 41ms/step - loss: 1.1399 - accuracy: 0.2667 - val_loss: 1.1999 - val_accuracy: 0.2500\n",
            "Epoch 5/50\n",
            "1/1 [==============================] - 0s 40ms/step - loss: 1.1298 - accuracy: 0.2667 - val_loss: 1.1917 - val_accuracy: 0.2500\n",
            "Epoch 6/50\n",
            "1/1 [==============================] - 0s 42ms/step - loss: 1.1199 - accuracy: 0.3333 - val_loss: 1.1838 - val_accuracy: 0.2500\n",
            "Epoch 7/50\n",
            "1/1 [==============================] - 0s 43ms/step - loss: 1.1102 - accuracy: 0.3333 - val_loss: 1.1756 - val_accuracy: 0.2500\n",
            "Epoch 8/50\n",
            "1/1 [==============================] - 0s 42ms/step - loss: 1.1005 - accuracy: 0.4000 - val_loss: 1.1676 - val_accuracy: 0.2500\n",
            "Epoch 9/50\n",
            "1/1 [==============================] - 0s 57ms/step - loss: 1.0911 - accuracy: 0.4000 - val_loss: 1.1597 - val_accuracy: 0.2500\n",
            "Epoch 10/50\n",
            "1/1 [==============================] - 0s 61ms/step - loss: 1.0818 - accuracy: 0.3333 - val_loss: 1.1520 - val_accuracy: 0.2500\n",
            "Epoch 11/50\n",
            "1/1 [==============================] - 0s 78ms/step - loss: 1.0727 - accuracy: 0.3333 - val_loss: 1.1444 - val_accuracy: 0.0000e+00\n",
            "Epoch 12/50\n",
            "1/1 [==============================] - 0s 79ms/step - loss: 1.0640 - accuracy: 0.3333 - val_loss: 1.1375 - val_accuracy: 0.0000e+00\n",
            "Epoch 13/50\n",
            "1/1 [==============================] - 0s 60ms/step - loss: 1.0555 - accuracy: 0.4000 - val_loss: 1.1313 - val_accuracy: 0.0000e+00\n",
            "Epoch 14/50\n",
            "1/1 [==============================] - 0s 78ms/step - loss: 1.0471 - accuracy: 0.4000 - val_loss: 1.1253 - val_accuracy: 0.0000e+00\n",
            "Epoch 15/50\n",
            "1/1 [==============================] - 0s 74ms/step - loss: 1.0388 - accuracy: 0.4667 - val_loss: 1.1194 - val_accuracy: 0.0000e+00\n",
            "Epoch 16/50\n",
            "1/1 [==============================] - 0s 79ms/step - loss: 1.0307 - accuracy: 0.5333 - val_loss: 1.1132 - val_accuracy: 0.0000e+00\n",
            "Epoch 17/50\n",
            "1/1 [==============================] - 0s 78ms/step - loss: 1.0228 - accuracy: 0.5333 - val_loss: 1.1070 - val_accuracy: 0.0000e+00\n",
            "Epoch 18/50\n",
            "1/1 [==============================] - 0s 70ms/step - loss: 1.0150 - accuracy: 0.5333 - val_loss: 1.1011 - val_accuracy: 0.0000e+00\n",
            "Epoch 19/50\n",
            "1/1 [==============================] - 0s 70ms/step - loss: 1.0072 - accuracy: 0.5333 - val_loss: 1.0956 - val_accuracy: 0.0000e+00\n",
            "Epoch 20/50\n",
            "1/1 [==============================] - 0s 83ms/step - loss: 0.9992 - accuracy: 0.5333 - val_loss: 1.0906 - val_accuracy: 0.0000e+00\n",
            "Epoch 21/50\n",
            "1/1 [==============================] - 0s 79ms/step - loss: 0.9913 - accuracy: 0.6000 - val_loss: 1.0857 - val_accuracy: 0.0000e+00\n",
            "Epoch 22/50\n",
            "1/1 [==============================] - 0s 52ms/step - loss: 0.9835 - accuracy: 0.6000 - val_loss: 1.0810 - val_accuracy: 0.2500\n",
            "Epoch 23/50\n",
            "1/1 [==============================] - 0s 83ms/step - loss: 0.9759 - accuracy: 0.6000 - val_loss: 1.0764 - val_accuracy: 0.2500\n",
            "Epoch 24/50\n",
            "1/1 [==============================] - 0s 69ms/step - loss: 0.9683 - accuracy: 0.6000 - val_loss: 1.0721 - val_accuracy: 0.2500\n",
            "Epoch 25/50\n",
            "1/1 [==============================] - 0s 62ms/step - loss: 0.9610 - accuracy: 0.6000 - val_loss: 1.0680 - val_accuracy: 0.2500\n",
            "Epoch 26/50\n",
            "1/1 [==============================] - 0s 73ms/step - loss: 0.9538 - accuracy: 0.6000 - val_loss: 1.0638 - val_accuracy: 0.2500\n",
            "Epoch 27/50\n",
            "1/1 [==============================] - 0s 74ms/step - loss: 0.9469 - accuracy: 0.6000 - val_loss: 1.0599 - val_accuracy: 0.2500\n",
            "Epoch 28/50\n",
            "1/1 [==============================] - 0s 71ms/step - loss: 0.9400 - accuracy: 0.6000 - val_loss: 1.0561 - val_accuracy: 0.2500\n",
            "Epoch 29/50\n",
            "1/1 [==============================] - 0s 70ms/step - loss: 0.9332 - accuracy: 0.6000 - val_loss: 1.0524 - val_accuracy: 0.2500\n",
            "Epoch 30/50\n",
            "1/1 [==============================] - 0s 51ms/step - loss: 0.9265 - accuracy: 0.6667 - val_loss: 1.0492 - val_accuracy: 0.5000\n",
            "Epoch 31/50\n",
            "1/1 [==============================] - 0s 52ms/step - loss: 0.9200 - accuracy: 0.6667 - val_loss: 1.0469 - val_accuracy: 0.5000\n",
            "Epoch 32/50\n",
            "1/1 [==============================] - 0s 53ms/step - loss: 0.9139 - accuracy: 0.6667 - val_loss: 1.0451 - val_accuracy: 0.5000\n",
            "Epoch 33/50\n",
            "1/1 [==============================] - 0s 259ms/step - loss: 0.9078 - accuracy: 0.7333 - val_loss: 1.0438 - val_accuracy: 0.5000\n",
            "Epoch 34/50\n",
            "1/1 [==============================] - 0s 256ms/step - loss: 0.9019 - accuracy: 0.7333 - val_loss: 1.0426 - val_accuracy: 0.7500\n",
            "Epoch 35/50\n",
            "1/1 [==============================] - 0s 292ms/step - loss: 0.8959 - accuracy: 0.7333 - val_loss: 1.0414 - val_accuracy: 0.7500\n",
            "Epoch 36/50\n",
            "1/1 [==============================] - 0s 236ms/step - loss: 0.8900 - accuracy: 0.7333 - val_loss: 1.0403 - val_accuracy: 0.7500\n",
            "Epoch 37/50\n",
            "1/1 [==============================] - 0s 106ms/step - loss: 0.8842 - accuracy: 0.7333 - val_loss: 1.0395 - val_accuracy: 0.7500\n",
            "Epoch 38/50\n",
            "1/1 [==============================] - 0s 124ms/step - loss: 0.8785 - accuracy: 0.7333 - val_loss: 1.0389 - val_accuracy: 0.7500\n",
            "Epoch 39/50\n",
            "1/1 [==============================] - 0s 42ms/step - loss: 0.8729 - accuracy: 0.7333 - val_loss: 1.0387 - val_accuracy: 0.7500\n",
            "Epoch 40/50\n",
            "1/1 [==============================] - 0s 39ms/step - loss: 0.8674 - accuracy: 0.7333 - val_loss: 1.0389 - val_accuracy: 0.7500\n",
            "Epoch 41/50\n",
            "1/1 [==============================] - 0s 45ms/step - loss: 0.8621 - accuracy: 0.7333 - val_loss: 1.0398 - val_accuracy: 0.7500\n",
            "Epoch 42/50\n",
            "1/1 [==============================] - 0s 41ms/step - loss: 0.8569 - accuracy: 0.7333 - val_loss: 1.0408 - val_accuracy: 0.7500\n",
            "Epoch 43/50\n",
            "1/1 [==============================] - 0s 40ms/step - loss: 0.8518 - accuracy: 0.8000 - val_loss: 1.0417 - val_accuracy: 0.7500\n",
            "Epoch 44/50\n",
            "1/1 [==============================] - 0s 38ms/step - loss: 0.8469 - accuracy: 0.8000 - val_loss: 1.0424 - val_accuracy: 0.7500\n",
            "Epoch 45/50\n",
            "1/1 [==============================] - 0s 55ms/step - loss: 0.8421 - accuracy: 0.8000 - val_loss: 1.0433 - val_accuracy: 0.7500\n",
            "Epoch 46/50\n",
            "1/1 [==============================] - 0s 38ms/step - loss: 0.8374 - accuracy: 0.8000 - val_loss: 1.0443 - val_accuracy: 0.7500\n",
            "Epoch 47/50\n",
            "1/1 [==============================] - 0s 112ms/step - loss: 0.8328 - accuracy: 0.7333 - val_loss: 1.0453 - val_accuracy: 0.7500\n",
            "Epoch 48/50\n",
            "1/1 [==============================] - 0s 153ms/step - loss: 0.8282 - accuracy: 0.7333 - val_loss: 1.0465 - val_accuracy: 0.7500\n",
            "Epoch 49/50\n",
            "1/1 [==============================] - 0s 171ms/step - loss: 0.8237 - accuracy: 0.7333 - val_loss: 1.0478 - val_accuracy: 0.7500\n",
            "Epoch 50/50\n",
            "1/1 [==============================] - 0s 112ms/step - loss: 0.8193 - accuracy: 0.7333 - val_loss: 1.0493 - val_accuracy: 0.7500\n"
          ]
        }
      ],
      "source": [
        "history=model.fit(X_train, y_train, epochs=50, batch_size=16,validation_split=0.2)"
      ]
    },
    {
      "cell_type": "code",
      "execution_count": 412,
      "metadata": {
        "id": "4J1vip0ufLqt"
      },
      "outputs": [],
      "source": [
        "# save model\n",
        "model.save('path/to/model.h5')"
      ]
    },
    {
      "cell_type": "code",
      "execution_count": 413,
      "metadata": {
        "colab": {
          "base_uri": "https://localhost:8080/",
          "height": 265
        },
        "id": "Om41EpUinpfC",
        "outputId": "87ae9f47-a161-4963-a376-c2f17cca047f"
      },
      "outputs": [
        {
          "output_type": "display_data",
          "data": {
            "text/plain": [
              "<Figure size 432x288 with 1 Axes>"
            ],
            "image/png": "[encoded data removed]"
          },
          "metadata": {
            "needs_background": "light"
          }
        }
      ],
      "source": [
        "import matplotlib.pyplot as plt\n",
        "plt.plot(history.history['accuracy'],label='accuracy')\n",
        "plt.plot(history.history['val_accuracy'],label='validation_accuracy')\n",
        "plt.legend()\n",
        "plt.show()"
      ]
    },
    {
      "cell_type": "markdown",
      "metadata": {
        "id": "s7-nRNJVmsTB"
      },
      "source": [
        "# Using MultiLayer Perceptron"
      ]
    },
    {
      "cell_type": "code",
      "execution_count": 350,
      "metadata": {
        "id": "Jwps0S6_lUgo"
      },
      "outputs": [],
      "source": [
        "import pandas as pd\n",
        "from sklearn.neural_network import MLPClassifier\n",
        "from sklearn.metrics import accuracy_score\n",
        "from sklearn.model_selection import train_test_split\n",
        "\n",
        "# Load the data\n",
        "url = 'http://archive.ics.uci.edu/ml/machine-learning-databases/lenses/lenses.data'\n",
        "df = pd.read_csv(url, sep='\\s+', header=None, names=['age', 'prescription', 'astigmatic', 'tear_rate', 'class'])"
      ]
    },
    {
      "cell_type": "code",
      "execution_count": 351,
      "metadata": {
        "id": "DPOgEO9OlXLi"
      },
      "outputs": [],
      "source": [
        "# Split the data into features and target variable\n",
        "X = df.drop('class', axis=1)\n",
        "y = df['class']"
      ]
    },
    {
      "cell_type": "code",
      "execution_count": 352,
      "metadata": {
        "id": "B4BDkRoblnz8"
      },
      "outputs": [],
      "source": [
        "# Split the data into training and testing sets\n",
        "X_train, X_test, y_train, y_test = train_test_split(X, y, test_size=0.3, random_state=42)"
      ]
    },
    {
      "cell_type": "code",
      "execution_count": 353,
      "metadata": {
        "colab": {
          "base_uri": "https://localhost:8080/"
        },
        "id": "pYDRiXrslpYK",
        "outputId": "e1df88ae-f769-4d95-82d2-60d3d8523582"
      },
      "outputs": [
        {
          "output_type": "stream",
          "name": "stderr",
          "text": [
            "/usr/local/lib/python3.8/dist-packages/sklearn/neural_network/_multilayer_perceptron.py:692: ConvergenceWarning: Stochastic Optimizer: Maximum iterations (1000) reached and the optimization hasn't converged yet.\n",
            "  warnings.warn(\n"
          ]
        },
        {
          "output_type": "execute_result",
          "data": {
            "text/plain": [
              "MLPClassifier(hidden_layer_sizes=(16, 8), max_iter=1000)"
            ]
          },
          "metadata": {},
          "execution_count": 353
        }
      ],
      "source": [
        "# Build the neural network model\n",
        "mlp = MLPClassifier(hidden_layer_sizes=(16, 8), activation='relu', solver='adam', max_iter=1000)\n",
        "mlp.fit(X_train, y_train)\n"
      ]
    },
    {
      "cell_type": "code",
      "execution_count": 354,
      "metadata": {
        "id": "6SX4y3VTlqsv"
      },
      "outputs": [],
      "source": [
        "# Make predictions on the test set\n",
        "y_pred = mlp.predict(X_test)"
      ]
    },
    {
      "cell_type": "code",
      "execution_count": 355,
      "metadata": {
        "colab": {
          "base_uri": "https://localhost:8080/"
        },
        "id": "kdrz4nPeniwX",
        "outputId": "109182f8-3485-4752-afcf-16682d603437"
      },
      "outputs": [
        {
          "output_type": "stream",
          "name": "stdout",
          "text": [
            "Accuracy score: 0.75\n"
          ]
        }
      ],
      "source": [
        "# Calculate the accuracy score\n",
        "acc_score = accuracy_score(y_test, y_pred)\n",
        "print(f\"Accuracy score: {acc_score:.2f}\")"
      ]
    }
  ],
  "metadata": {
    "colab": {
      "provenance": [],
      "authorship_tag": "ABX9TyPVD2gZOb2ygUoxywU7DXsV",
      "include_colab_link": true
    },
    "kernelspec": {
      "display_name": "Python 3",
      "name": "python3"
    },
    "language_info": {
      "name": "python"
    }
  },
  "nbformat": 4,
  "nbformat_minor": 0
}